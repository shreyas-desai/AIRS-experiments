{
 "cells": [
  {
   "cell_type": "code",
   "execution_count": 1,
   "metadata": {},
   "outputs": [],
   "source": [
    "import pandas as pd"
   ]
  },
  {
   "cell_type": "code",
   "execution_count": 5,
   "metadata": {},
   "outputs": [],
   "source": [
    "afg_data = pd.read_csv(\"data/Partial ICEWS Data/test_quintuples_AFG.csv\")\n",
    "ind_data = pd.read_csv(\"data/Partial ICEWS Data/test_quintuples_IND.csv\")\n",
    "irn_data = pd.read_csv(\"data/Partial ICEWS Data/test_quintuples_IRN.csv\")"
   ]
  },
  {
   "cell_type": "code",
   "execution_count": 16,
   "metadata": {},
   "outputs": [
    {
     "data": {
      "text/html": [
       "<div>\n",
       "<style scoped>\n",
       "    .dataframe tbody tr th:only-of-type {\n",
       "        vertical-align: middle;\n",
       "    }\n",
       "\n",
       "    .dataframe tbody tr th {\n",
       "        vertical-align: top;\n",
       "    }\n",
       "\n",
       "    .dataframe thead th {\n",
       "        text-align: right;\n",
       "    }\n",
       "</style>\n",
       "<table border=\"1\" class=\"dataframe\">\n",
       "  <thead>\n",
       "    <tr style=\"text-align: right;\">\n",
       "      <th></th>\n",
       "      <th>source</th>\n",
       "      <th>relation</th>\n",
       "      <th>target</th>\n",
       "      <th>time</th>\n",
       "      <th>text</th>\n",
       "    </tr>\n",
       "  </thead>\n",
       "  <tbody>\n",
       "    <tr>\n",
       "      <th>0</th>\n",
       "      <td>Police (India)</td>\n",
       "      <td>Arrest, detain, or charge with legal action</td>\n",
       "      <td>Criminal (India)</td>\n",
       "      <td>2015-09-08</td>\n",
       "      <td>Acting on a tip, officials of the Kavi Nagar p...</td>\n",
       "    </tr>\n",
       "    <tr>\n",
       "      <th>1</th>\n",
       "      <td>John Kerry</td>\n",
       "      <td>Make optimistic comment</td>\n",
       "      <td>Iran</td>\n",
       "      <td>2015-09-23</td>\n",
       "      <td>(Background: The Iranian Foreign Ministry spok...</td>\n",
       "    </tr>\n",
       "    <tr>\n",
       "      <th>2</th>\n",
       "      <td>Syria</td>\n",
       "      <td>Engage in diplomatic cooperation</td>\n",
       "      <td>Russia</td>\n",
       "      <td>2015-10-18</td>\n",
       "      <td>The cooperation between Iran, Iraq, Russia and...</td>\n",
       "    </tr>\n",
       "    <tr>\n",
       "      <th>3</th>\n",
       "      <td>Jaysh al-Islam</td>\n",
       "      <td>Make statement</td>\n",
       "      <td>Iran</td>\n",
       "      <td>2016-01-04</td>\n",
       "      <td>The group, whose leader was killed in a Dec. 2...</td>\n",
       "    </tr>\n",
       "    <tr>\n",
       "      <th>4</th>\n",
       "      <td>Tofael Ahmed</td>\n",
       "      <td>Make a visit</td>\n",
       "      <td>India</td>\n",
       "      <td>2016-01-09</td>\n",
       "      <td>Tofail, now visiting India, also held a meetin...</td>\n",
       "    </tr>\n",
       "  </tbody>\n",
       "</table>\n",
       "</div>"
      ],
      "text/plain": [
       "           source                                     relation  \\\n",
       "0  Police (India)  Arrest, detain, or charge with legal action   \n",
       "1      John Kerry                      Make optimistic comment   \n",
       "2           Syria             Engage in diplomatic cooperation   \n",
       "3  Jaysh al-Islam                               Make statement   \n",
       "4    Tofael Ahmed                                 Make a visit   \n",
       "\n",
       "             target        time  \\\n",
       "0  Criminal (India)  2015-09-08   \n",
       "1              Iran  2015-09-23   \n",
       "2            Russia  2015-10-18   \n",
       "3              Iran  2016-01-04   \n",
       "4             India  2016-01-09   \n",
       "\n",
       "                                                text  \n",
       "0  Acting on a tip, officials of the Kavi Nagar p...  \n",
       "1  (Background: The Iranian Foreign Ministry spok...  \n",
       "2  The cooperation between Iran, Iraq, Russia and...  \n",
       "3  The group, whose leader was killed in a Dec. 2...  \n",
       "4  Tofail, now visiting India, also held a meetin...  "
      ]
     },
     "execution_count": 16,
     "metadata": {},
     "output_type": "execute_result"
    }
   ],
   "source": [
    "concat_df = pd.concat([afg_data,ind_data,irn_data], axis=0)\n",
    "concat_df = concat_df.sample(frac=1, random_state=0).reset_index(drop=True)\n",
    "concat_df.head()"
   ]
  },
  {
   "cell_type": "code",
   "execution_count": 7,
   "metadata": {},
   "outputs": [
    {
     "data": {
      "text/plain": [
       "168846"
      ]
     },
     "execution_count": 7,
     "metadata": {},
     "output_type": "execute_result"
    }
   ],
   "source": [
    "len(concat_df)"
   ]
  },
  {
   "cell_type": "code",
   "execution_count": 8,
   "metadata": {},
   "outputs": [
    {
     "data": {
      "text/plain": [
       "4152"
      ]
     },
     "execution_count": 8,
     "metadata": {},
     "output_type": "execute_result"
    }
   ],
   "source": [
    "len(concat_df['source'].unique())"
   ]
  },
  {
   "cell_type": "code",
   "execution_count": 9,
   "metadata": {},
   "outputs": [
    {
     "data": {
      "text/plain": [
       "3848"
      ]
     },
     "execution_count": 9,
     "metadata": {},
     "output_type": "execute_result"
    }
   ],
   "source": [
    "len(concat_df['target'].unique())"
   ]
  },
  {
   "cell_type": "code",
   "execution_count": 10,
   "metadata": {},
   "outputs": [
    {
     "data": {
      "text/plain": [
       "221"
      ]
     },
     "execution_count": 10,
     "metadata": {},
     "output_type": "execute_result"
    }
   ],
   "source": [
    "len(concat_df['relation'].unique())"
   ]
  },
  {
   "cell_type": "code",
   "execution_count": 11,
   "metadata": {},
   "outputs": [
    {
     "data": {
      "text/plain": [
       "224"
      ]
     },
     "execution_count": 11,
     "metadata": {},
     "output_type": "execute_result"
    }
   ],
   "source": [
    "len(concat_df['time'].unique())"
   ]
  },
  {
   "cell_type": "code",
   "execution_count": 18,
   "metadata": {},
   "outputs": [
    {
     "name": "stdout",
     "output_type": "stream",
     "text": [
      "^C\n",
      "Note: you may need to restart the kernel to use updated packages.\n"
     ]
    }
   ],
   "source": [
    "pip install accelerate\n"
   ]
  },
  {
   "cell_type": "code",
   "execution_count": null,
   "metadata": {},
   "outputs": [],
   "source": [
    "from transformers import T5Tokenizer, T5ForConditionalGeneration\n",
    "\n",
    "tokenizer = T5Tokenizer.from_pretrained(\"google/flan-t5-large\")\n",
    "model = T5ForConditionalGeneration.from_pretrained(\"google/flan-t5-large\", device_map=\"auto\")\n",
    "\n",
    "input_text = \"translate English to German: How old are you?\"\n",
    "input_ids = tokenizer(input_text, return_tensors=\"pt\").input_ids.to(\"cuda\")\n",
    "\n",
    "outputs = model.generate(input_ids)\n",
    "print(tokenizer.decode(outputs[0]))"
   ]
  }
 ],
 "metadata": {
  "kernelspec": {
   "display_name": "Python 3 (ipykernel)",
   "language": "python",
   "name": "python3"
  }
 },
 "nbformat": 4,
 "nbformat_minor": 2
}
