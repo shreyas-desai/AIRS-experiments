{
 "cells": [
  {
   "cell_type": "code",
   "execution_count": 1,
   "metadata": {},
   "outputs": [],
   "source": [
    "from torch import cuda"
   ]
  },
  {
   "cell_type": "code",
   "execution_count": 1,
   "metadata": {
    "_cell_guid": "b1076dfc-b9ad-4769-8c92-a6c4dae69d19",
    "_uuid": "8f2839f25d086af736a60e9eeb907d3b93b6e0e5"
   },
   "outputs": [],
   "source": [
    "import pandas as pd\n",
    "import numpy as np\n",
    "import torch\n",
    "from torch.utils.data import Dataset, DataLoader\n",
    "import torch.nn as nn\n",
    "import torch.nn.functional as F\n",
    "from tqdm.auto import tqdm\n",
    "from transformers import T5Tokenizer, T5ForConditionalGeneration\n",
    "from sklearn.model_selection import train_test_split"
   ]
  },
  {
   "cell_type": "code",
   "execution_count": 2,
   "metadata": {},
   "outputs": [],
   "source": [
    "from torch import cuda\n",
    "device = 'cuda' if cuda.is_available() else 'cpu'"
   ]
  },
  {
   "cell_type": "code",
   "execution_count": 3,
   "metadata": {},
   "outputs": [
    {
     "data": {
      "text/html": [
       "<div>\n",
       "<style scoped>\n",
       "    .dataframe tbody tr th:only-of-type {\n",
       "        vertical-align: middle;\n",
       "    }\n",
       "\n",
       "    .dataframe tbody tr th {\n",
       "        vertical-align: top;\n",
       "    }\n",
       "\n",
       "    .dataframe thead th {\n",
       "        text-align: right;\n",
       "    }\n",
       "</style>\n",
       "<table border=\"1\" class=\"dataframe\">\n",
       "  <thead>\n",
       "    <tr style=\"text-align: right;\">\n",
       "      <th></th>\n",
       "      <th>source</th>\n",
       "      <th>relation</th>\n",
       "      <th>target</th>\n",
       "      <th>date</th>\n",
       "    </tr>\n",
       "  </thead>\n",
       "  <tbody>\n",
       "    <tr>\n",
       "      <th>0</th>\n",
       "      <td>Armed Gang (Afghanistan)</td>\n",
       "      <td>Carry out suicide bombing</td>\n",
       "      <td>United States</td>\n",
       "      <td>2010-01-01</td>\n",
       "    </tr>\n",
       "    <tr>\n",
       "      <th>1</th>\n",
       "      <td>Central Intelligence Agency</td>\n",
       "      <td>Make statement</td>\n",
       "      <td>Taliban</td>\n",
       "      <td>2010-01-01</td>\n",
       "    </tr>\n",
       "    <tr>\n",
       "      <th>2</th>\n",
       "      <td>Taliban</td>\n",
       "      <td>Make statement</td>\n",
       "      <td>Attacker (Afghanistan)</td>\n",
       "      <td>2010-01-01</td>\n",
       "    </tr>\n",
       "    <tr>\n",
       "      <th>3</th>\n",
       "      <td>Citizen (Afghanistan)</td>\n",
       "      <td>Demonstrate or rally</td>\n",
       "      <td>Unspecified Actor</td>\n",
       "      <td>2010-01-01</td>\n",
       "    </tr>\n",
       "    <tr>\n",
       "      <th>4</th>\n",
       "      <td>Armed Gang (Afghanistan)</td>\n",
       "      <td>Carry out suicide bombing</td>\n",
       "      <td>Central Intelligence Agency</td>\n",
       "      <td>2010-01-01</td>\n",
       "    </tr>\n",
       "  </tbody>\n",
       "</table>\n",
       "</div>"
      ],
      "text/plain": [
       "                        source                   relation  \\\n",
       "0     Armed Gang (Afghanistan)  Carry out suicide bombing   \n",
       "1  Central Intelligence Agency             Make statement   \n",
       "2                      Taliban             Make statement   \n",
       "3        Citizen (Afghanistan)       Demonstrate or rally   \n",
       "4     Armed Gang (Afghanistan)  Carry out suicide bombing   \n",
       "\n",
       "                        target        date  \n",
       "0                United States  2010-01-01  \n",
       "1                      Taliban  2010-01-01  \n",
       "2       Attacker (Afghanistan)  2010-01-01  \n",
       "3            Unspecified Actor  2010-01-01  \n",
       "4  Central Intelligence Agency  2010-01-01  "
      ]
     },
     "execution_count": 3,
     "metadata": {},
     "output_type": "execute_result"
    }
   ],
   "source": [
    "data = pd.read_csv(\"../data/raw_data/rawdat/AFG/quadruple.txt\", sep='\\t', names = [\"source\",\"relation\",\"target\",\"date\"])\n",
    "data.head()"
   ]
  },
  {
   "cell_type": "code",
   "execution_count": 4,
   "metadata": {},
   "outputs": [
    {
     "data": {
      "text/html": [
       "<div>\n",
       "<style scoped>\n",
       "    .dataframe tbody tr th:only-of-type {\n",
       "        vertical-align: middle;\n",
       "    }\n",
       "\n",
       "    .dataframe tbody tr th {\n",
       "        vertical-align: top;\n",
       "    }\n",
       "\n",
       "    .dataframe thead th {\n",
       "        text-align: right;\n",
       "    }\n",
       "</style>\n",
       "<table border=\"1\" class=\"dataframe\">\n",
       "  <thead>\n",
       "    <tr style=\"text-align: right;\">\n",
       "      <th></th>\n",
       "      <th>text</th>\n",
       "    </tr>\n",
       "  </thead>\n",
       "  <tbody>\n",
       "    <tr>\n",
       "      <th>0</th>\n",
       "      <td>According to a foreign news agency, a suicide ...</td>\n",
       "    </tr>\n",
       "    <tr>\n",
       "      <th>1</th>\n",
       "      <td>The CIA said a Taliban bomber on Wednesday man...</td>\n",
       "    </tr>\n",
       "    <tr>\n",
       "      <th>2</th>\n",
       "      <td>The Taliban claimed responsibility for the att...</td>\n",
       "    </tr>\n",
       "    <tr>\n",
       "      <th>3</th>\n",
       "      <td>The case in Kunar has already prompted Afghans...</td>\n",
       "    </tr>\n",
       "    <tr>\n",
       "      <th>4</th>\n",
       "      <td>The CIA base attacked by a suicide bomber in A...</td>\n",
       "    </tr>\n",
       "  </tbody>\n",
       "</table>\n",
       "</div>"
      ],
      "text/plain": [
       "                                                text\n",
       "0  According to a foreign news agency, a suicide ...\n",
       "1  The CIA said a Taliban bomber on Wednesday man...\n",
       "2  The Taliban claimed responsibility for the att...\n",
       "3  The case in Kunar has already prompted Afghans...\n",
       "4  The CIA base attacked by a suicide bomber in A..."
      ]
     },
     "execution_count": 4,
     "metadata": {},
     "output_type": "execute_result"
    }
   ],
   "source": [
    "text =pd.read_csv(\"../data/raw_data/rawdat/AFG/text.txt\", sep='\\t', names = [\"text\"])\n",
    "text.head()"
   ]
  },
  {
   "cell_type": "code",
   "execution_count": 5,
   "metadata": {},
   "outputs": [],
   "source": [
    "data['source'] = data['source'].str.strip()\n",
    "data['relation'] = data['relation'].str.strip()\n",
    "data['target'] = data['target'].str.strip()\n",
    "text['text'] = text['text'].str.strip()"
   ]
  },
  {
   "cell_type": "code",
   "execution_count": 6,
   "metadata": {},
   "outputs": [
    {
     "data": {
      "text/html": [
       "<div>\n",
       "<style scoped>\n",
       "    .dataframe tbody tr th:only-of-type {\n",
       "        vertical-align: middle;\n",
       "    }\n",
       "\n",
       "    .dataframe tbody tr th {\n",
       "        vertical-align: top;\n",
       "    }\n",
       "\n",
       "    .dataframe thead th {\n",
       "        text-align: right;\n",
       "    }\n",
       "</style>\n",
       "<table border=\"1\" class=\"dataframe\">\n",
       "  <thead>\n",
       "    <tr style=\"text-align: right;\">\n",
       "      <th></th>\n",
       "      <th>source</th>\n",
       "      <th>relation</th>\n",
       "      <th>target</th>\n",
       "      <th>date</th>\n",
       "      <th>text</th>\n",
       "    </tr>\n",
       "  </thead>\n",
       "  <tbody>\n",
       "    <tr>\n",
       "      <th>0</th>\n",
       "      <td>Armed Gang (Afghanistan)</td>\n",
       "      <td>Carry out suicide bombing</td>\n",
       "      <td>United States</td>\n",
       "      <td>2010-01-01</td>\n",
       "      <td>According to a foreign news agency, a suicide ...</td>\n",
       "    </tr>\n",
       "    <tr>\n",
       "      <th>1</th>\n",
       "      <td>Central Intelligence Agency</td>\n",
       "      <td>Make statement</td>\n",
       "      <td>Taliban</td>\n",
       "      <td>2010-01-01</td>\n",
       "      <td>The CIA said a Taliban bomber on Wednesday man...</td>\n",
       "    </tr>\n",
       "    <tr>\n",
       "      <th>2</th>\n",
       "      <td>Taliban</td>\n",
       "      <td>Make statement</td>\n",
       "      <td>Attacker (Afghanistan)</td>\n",
       "      <td>2010-01-01</td>\n",
       "      <td>The Taliban claimed responsibility for the att...</td>\n",
       "    </tr>\n",
       "    <tr>\n",
       "      <th>3</th>\n",
       "      <td>Citizen (Afghanistan)</td>\n",
       "      <td>Demonstrate or rally</td>\n",
       "      <td>Unspecified Actor</td>\n",
       "      <td>2010-01-01</td>\n",
       "      <td>The case in Kunar has already prompted Afghans...</td>\n",
       "    </tr>\n",
       "    <tr>\n",
       "      <th>4</th>\n",
       "      <td>Armed Gang (Afghanistan)</td>\n",
       "      <td>Carry out suicide bombing</td>\n",
       "      <td>Central Intelligence Agency</td>\n",
       "      <td>2010-01-01</td>\n",
       "      <td>The CIA base attacked by a suicide bomber in A...</td>\n",
       "    </tr>\n",
       "  </tbody>\n",
       "</table>\n",
       "</div>"
      ],
      "text/plain": [
       "                        source                   relation  \\\n",
       "0     Armed Gang (Afghanistan)  Carry out suicide bombing   \n",
       "1  Central Intelligence Agency             Make statement   \n",
       "2                      Taliban             Make statement   \n",
       "3        Citizen (Afghanistan)       Demonstrate or rally   \n",
       "4     Armed Gang (Afghanistan)  Carry out suicide bombing   \n",
       "\n",
       "                        target        date  \\\n",
       "0                United States  2010-01-01   \n",
       "1                      Taliban  2010-01-01   \n",
       "2       Attacker (Afghanistan)  2010-01-01   \n",
       "3            Unspecified Actor  2010-01-01   \n",
       "4  Central Intelligence Agency  2010-01-01   \n",
       "\n",
       "                                                text  \n",
       "0  According to a foreign news agency, a suicide ...  \n",
       "1  The CIA said a Taliban bomber on Wednesday man...  \n",
       "2  The Taliban claimed responsibility for the att...  \n",
       "3  The case in Kunar has already prompted Afghans...  \n",
       "4  The CIA base attacked by a suicide bomber in A...  "
      ]
     },
     "execution_count": 6,
     "metadata": {},
     "output_type": "execute_result"
    }
   ],
   "source": [
    "result = pd.concat([data,text],axis=1)\n",
    "result.head()"
   ]
  },
  {
   "cell_type": "code",
   "execution_count": 7,
   "metadata": {},
   "outputs": [
    {
     "data": {
      "text/plain": [
       "'According to a foreign news agency, a suicide bomber attacked the US CIA center in Khost, Afghanistan, killing eight CIA officials and wounding six others.'"
      ]
     },
     "execution_count": 7,
     "metadata": {},
     "output_type": "execute_result"
    }
   ],
   "source": [
    "result['text'][0]"
   ]
  },
  {
   "cell_type": "code",
   "execution_count": 8,
   "metadata": {},
   "outputs": [],
   "source": [
    "unique_result = result.drop_duplicates()\n",
    "# unique_result = result.drop_duplicates(subset=['text'],keep='last')"
   ]
  },
  {
   "cell_type": "code",
   "execution_count": 9,
   "metadata": {},
   "outputs": [],
   "source": [
    "# len(result)"
   ]
  },
  {
   "cell_type": "code",
   "execution_count": 10,
   "metadata": {},
   "outputs": [],
   "source": [
    "# len(unique_result)"
   ]
  },
  {
   "cell_type": "code",
   "execution_count": 11,
   "metadata": {},
   "outputs": [
    {
     "name": "stderr",
     "output_type": "stream",
     "text": [
      "C:\\Users\\desai\\anaconda3\\envs\\cuda_test\\lib\\site-packages\\huggingface_hub\\file_download.py:1132: FutureWarning: `resume_download` is deprecated and will be removed in version 1.0.0. Downloads always resume when possible. If you want to force a new download, use `force_download=True`.\n",
      "  warnings.warn(\n",
      "You are using the default legacy behaviour of the <class 'transformers.models.t5.tokenization_t5.T5Tokenizer'>. This is expected, and simply means that the `legacy` (previous) behavior will be used so nothing changes for you. If you want to use the new behaviour, set `legacy=False`. This should only be set if you understand what it means, and thoroughly read the reason why this was added as explained in https://github.com/huggingface/transformers/pull/24565\n",
      "Special tokens have been added in the vocabulary, make sure the associated word embeddings are fine-tuned or trained.\n"
     ]
    },
    {
     "data": {
      "application/vnd.jupyter.widget-view+json": {
       "model_id": "fbebe2ef7ff74b0198c3f99a6efd8395",
       "version_major": 2,
       "version_minor": 0
      },
      "text/plain": [
       "Loading checkpoint shards:   0%|          | 0/2 [00:00<?, ?it/s]"
      ]
     },
     "metadata": {},
     "output_type": "display_data"
    },
    {
     "name": "stderr",
     "output_type": "stream",
     "text": [
      "WARNING:root:Some parameters are on the meta device device because they were offloaded to the disk and cpu.\n"
     ]
    }
   ],
   "source": [
    "tokenizer = T5Tokenizer.from_pretrained(\"google/flan-t5-xl\")\n",
    "model = T5ForConditionalGeneration.from_pretrained(\"google/flan-t5-xl\", device_map=\"auto\")"
   ]
  },
  {
   "cell_type": "markdown",
   "metadata": {},
   "source": [
    "Tried In-context learning, gives answers close to what we want, but hallucinates sometimes. There is a limit to number of input tokens that can be provided."
   ]
  },
  {
   "cell_type": "code",
   "execution_count": 12,
   "metadata": {},
   "outputs": [],
   "source": [
    "# print(f\"Unique Sources: {len(result['source'].unique())} \\nUnique Targets: {len(result['target'].unique())}\\nUnique Relations: {len(result['relation'].unique())} \\nUnique Texts: {len(result['text'].unique())}\")"
   ]
  },
  {
   "cell_type": "code",
   "execution_count": 13,
   "metadata": {},
   "outputs": [],
   "source": [
    "# input_text = \"Given an event text, extract the source, target and relation between them: For e.g.\\n\"\n",
    "# # for t in range(len(result)):\n",
    "# for t in range(len(result)):\n",
    "#     if len(input_text.split())>=512:\n",
    "#         input_text += f\"Given Text: {result['text'][t]}\"\n",
    "#         print(f\"Prediction text :{result['text'][t]}\\n Extracted information -> Source: {result['source'][t]}, Target: {result['target'][t]}, Relation: {result['relation'][t]}\\n\")\n",
    "#         break\n",
    "#     input_text += f\"Given text:{result['text'][t]}\\n Extracted information -> Source:{result['source'][t]}, Target:{result['target'][t]}, Relation:{result['relation'][t]}\\n\"\n",
    "\n",
    "# input_ids = tokenizer(input_text, return_tensors=\"pt\").input_ids.to(\"cuda\")"
   ]
  },
  {
   "cell_type": "code",
   "execution_count": 14,
   "metadata": {},
   "outputs": [],
   "source": [
    "# outputs = model.generate(input_ids,max_new_tokens=1000)\n",
    "# print(tokenizer.decode(outputs[0],skip_special_tokens=True))"
   ]
  },
  {
   "cell_type": "markdown",
   "metadata": {},
   "source": [
    "Tried Chain-of-Thought Prompting. Didn't work well as the reasoning didn't make much sense."
   ]
  },
  {
   "cell_type": "code",
   "execution_count": 15,
   "metadata": {},
   "outputs": [],
   "source": [
    "# cot_input = f\"Given a text: 'In western Farah province, which like Badghis is experiencing escalating violence as Taliban influence spreads to previously peaceful areas, three militants were killed by police in a shootout late Thursday, police said', we extract the source:'Police (Afghanistan)', target:'Police (Afghanistan)' and relation:' Use conventional military force'. Explain the reasoning as to how the source, target and relation are extracted based on the text.\"\n",
    "# cot_input_ids = tokenizer(cot_input, return_tensors=\"pt\").input_ids.to(\"cuda\")"
   ]
  },
  {
   "cell_type": "code",
   "execution_count": 16,
   "metadata": {},
   "outputs": [],
   "source": [
    "# cot_outputs = model.generate(cot_input_ids,max_new_tokens=1000)\n",
    "# print(tokenizer.decode(cot_outputs[0],skip_special_tokens=True))"
   ]
  },
  {
   "cell_type": "markdown",
   "metadata": {},
   "source": [
    "### Training a supervised model using FLAN-T5 for multiclass classification of event type"
   ]
  },
  {
   "cell_type": "code",
   "execution_count": 17,
   "metadata": {},
   "outputs": [
    {
     "data": {
      "text/html": [
       "<div>\n",
       "<style scoped>\n",
       "    .dataframe tbody tr th:only-of-type {\n",
       "        vertical-align: middle;\n",
       "    }\n",
       "\n",
       "    .dataframe tbody tr th {\n",
       "        vertical-align: top;\n",
       "    }\n",
       "\n",
       "    .dataframe thead th {\n",
       "        text-align: right;\n",
       "    }\n",
       "</style>\n",
       "<table border=\"1\" class=\"dataframe\">\n",
       "  <thead>\n",
       "    <tr style=\"text-align: right;\">\n",
       "      <th></th>\n",
       "      <th>relation</th>\n",
       "      <th>id</th>\n",
       "    </tr>\n",
       "  </thead>\n",
       "  <tbody>\n",
       "    <tr>\n",
       "      <th>0</th>\n",
       "      <td>Carry out suicide bombing</td>\n",
       "      <td>0</td>\n",
       "    </tr>\n",
       "    <tr>\n",
       "      <th>1</th>\n",
       "      <td>Make statement</td>\n",
       "      <td>1</td>\n",
       "    </tr>\n",
       "    <tr>\n",
       "      <th>2</th>\n",
       "      <td>Demonstrate or rally</td>\n",
       "      <td>2</td>\n",
       "    </tr>\n",
       "    <tr>\n",
       "      <th>3</th>\n",
       "      <td>Meet at a 'third' location</td>\n",
       "      <td>3</td>\n",
       "    </tr>\n",
       "    <tr>\n",
       "      <th>4</th>\n",
       "      <td>Employ aerial weapons</td>\n",
       "      <td>4</td>\n",
       "    </tr>\n",
       "  </tbody>\n",
       "</table>\n",
       "</div>"
      ],
      "text/plain": [
       "                     relation  id\n",
       "0   Carry out suicide bombing   0\n",
       "1              Make statement   1\n",
       "2        Demonstrate or rally   2\n",
       "3  Meet at a 'third' location   3\n",
       "4       Employ aerial weapons   4"
      ]
     },
     "execution_count": 17,
     "metadata": {},
     "output_type": "execute_result"
    }
   ],
   "source": [
    "relation_ids = pd.read_csv('../data/raw_data/rawdat/AFG/relation2id.txt', sep='\\t', names=['relation','id'])\n",
    "relation_ids.head()"
   ]
  },
  {
   "cell_type": "code",
   "execution_count": 18,
   "metadata": {
    "scrolled": true
   },
   "outputs": [
    {
     "data": {
      "text/plain": [
       "{'Carry out suicide bombing': 0,\n",
       " 'Make statement': 1,\n",
       " 'Demonstrate or rally': 2,\n",
       " \"Meet at a 'third' location\": 3,\n",
       " 'Employ aerial weapons': 4,\n",
       " 'Acknowledge or claim responsibility': 5,\n",
       " 'Engage in negotiation': 6,\n",
       " 'Make an appeal or request': 7,\n",
       " 'Use conventional military force': 8,\n",
       " 'Consult': 9,\n",
       " 'Threaten with military force': 10,\n",
       " 'Mobilize or increase armed forces': 11,\n",
       " 'Abduct, hijack, or take hostage': 12,\n",
       " 'Use unconventional violence': 13,\n",
       " 'Make a visit': 14,\n",
       " 'Host a visit': 15,\n",
       " 'Appeal for diplomatic cooperation (such as policy support)': 16,\n",
       " 'Provide aid': 17,\n",
       " 'Conduct suicide, car, or other non-military bombing': 18,\n",
       " 'Investigate': 19,\n",
       " 'Accuse': 20,\n",
       " 'Criticize or denounce': 21,\n",
       " 'Reject': 22,\n",
       " 'Arrest, detain, or charge with legal action': 23,\n",
       " 'Praise or endorse': 24,\n",
       " 'Demand': 25,\n",
       " 'fight with artillery and tanks': 26,\n",
       " 'Deny responsibility': 27,\n",
       " 'Use as human shield': 28,\n",
       " 'Accuse of human rights abuses': 29,\n",
       " 'fight with small arms and light weapons': 30,\n",
       " 'Cooperate militarily': 31,\n",
       " 'Express intent to engage in diplomatic cooperation (such as policy support)': 32,\n",
       " 'Investigate crime, corruption': 33,\n",
       " 'Make pessimistic comment': 34,\n",
       " 'Express intent to provide economic aid': 35,\n",
       " 'Provide economic aid': 36,\n",
       " 'Engage in diplomatic cooperation': 37,\n",
       " 'Express intent to meet or negotiate': 38,\n",
       " 'Express intent to institute political reform': 39,\n",
       " 'Make empathetic comment': 40,\n",
       " 'Reject proposal to meet, discuss, or negotiate': 41,\n",
       " 'Demand de-escalation of military engagement': 42,\n",
       " 'Destroy property': 43,\n",
       " 'Threaten': 44,\n",
       " 'Provide military aid': 45,\n",
       " 'Discuss by telephone': 46,\n",
       " 'Express intent to provide military aid': 47,\n",
       " 'Confiscate property': 48,\n",
       " 'Retreat or surrender militarily': 49,\n",
       " 'Increase military alert status': 50,\n",
       " 'Physically assault': 51,\n",
       " 'Apologize': 52,\n",
       " 'Protest violently, riot': 53,\n",
       " 'Share intelligence or information': 54,\n",
       " 'Provide military protection or peacekeeping': 55,\n",
       " 'Express intent to yield': 56,\n",
       " 'Sign formal agreement': 57,\n",
       " 'Express intent to provide military protection or peacekeeping': 58,\n",
       " 'Receive deployment of peacekeepers': 59,\n",
       " 'Grant asylum': 60,\n",
       " 'Engage in material cooperation': 61,\n",
       " 'Expel or deport individuals': 62,\n",
       " 'Engage in symbolic act': 63,\n",
       " 'Reduce relations': 64,\n",
       " 'Express intent to cooperate': 65,\n",
       " 'Make optimistic comment': 66,\n",
       " 'Return, release property': 67,\n",
       " 'Increase police alert status': 68,\n",
       " 'Provide humanitarian aid': 69,\n",
       " 'Appeal for de-escalation of military engagement': 70,\n",
       " 'Return, release person(s)': 71,\n",
       " 'Rally support on behalf of': 72,\n",
       " 'Appeal to yield': 73,\n",
       " 'Demobilize armed forces': 74,\n",
       " 'Occupy territory': 75,\n",
       " 'Express intent to settle dispute': 76,\n",
       " 'Appeal for intelligence': 77,\n",
       " 'Conduct strike or boycott': 78,\n",
       " 'Obstruct passage, block': 79,\n",
       " 'Reject plan, agreement to settle dispute': 80,\n",
       " 'Express intent to cooperate on judicial matters': 81,\n",
       " 'Consider policy option': 82,\n",
       " 'Impose administrative sanctions': 83,\n",
       " 'Defy norms, law': 84,\n",
       " 'Mediate': 85,\n",
       " 'Demand intelligence cooperation': 86,\n",
       " 'Kill by physical assault': 87,\n",
       " 'Coerce': 88,\n",
       " 'Express intent to de-escalate military engagement': 89,\n",
       " 'Express intent to cooperate on intelligence': 90,\n",
       " 'Reduce or break diplomatic relations': 91,\n",
       " 'Threaten to reduce or break relations': 92,\n",
       " 'Appeal to others to meet or negotiate': 93,\n",
       " 'Grant diplomatic recognition': 94,\n",
       " 'Demonstrate military or police power': 95,\n",
       " 'Express intent to cooperate economically': 96,\n",
       " 'Yield': 97,\n",
       " 'Appeal to engage in or accept mediation': 98,\n",
       " 'Impose restrictions on political freedoms': 99,\n",
       " 'Refuse to de-escalate military engagement': 100,\n",
       " 'Appeal for material cooperation': 101,\n",
       " 'Express intent to mediate': 102,\n",
       " 'Mobilize or increase police power': 103,\n",
       " 'Rally opposition against': 104,\n",
       " 'Demand judicial cooperation': 105,\n",
       " 'Defend verbally': 106,\n",
       " 'Receive inspectors': 107,\n",
       " 'Appeal for economic aid': 108,\n",
       " 'Decline comment': 109,\n",
       " 'Seize or damage property': 110,\n",
       " 'Express intent to provide material aid': 111,\n",
       " 'Impose blockade, restrict movement': 112,\n",
       " 'Appeal for aid': 113,\n",
       " 'Demand change in leadership': 114,\n",
       " 'Demand diplomatic cooperation (such as policy support)': 115,\n",
       " 'Bring lawsuit against': 116,\n",
       " 'Carry out roadside bombing': 117,\n",
       " 'Cooperate economically': 118,\n",
       " 'Accede to demands for change in leadership': 119,\n",
       " 'Accede to demands for rights': 120,\n",
       " 'Threaten with political dissent, protest': 121,\n",
       " 'Assassinate': 122,\n",
       " 'Expel or withdraw peacekeepers': 123,\n",
       " 'Appeal for change in leadership': 124,\n",
       " 'Carry out car bombing': 125,\n",
       " 'Appeal for easing of administrative sanctions': 126,\n",
       " 'Refuse to yield': 127,\n",
       " 'Impose embargo, boycott, or sanctions': 128,\n",
       " 'Express intent to provide humanitarian aid': 129,\n",
       " 'Sexually assault': 130,\n",
       " 'Appeal for judicial cooperation': 131,\n",
       " 'Demand material cooperation': 132,\n",
       " 'Give ultimatum': 133,\n",
       " 'Refuse to release persons or property': 134,\n",
       " 'Appeal for humanitarian aid': 135,\n",
       " 'Accuse of war crimes': 136,\n",
       " 'Accuse of crime, corruption': 137,\n",
       " 'Halt negotiations': 138,\n",
       " 'Demand meeting, negotiation': 139,\n",
       " 'Express intent to release persons or property': 140,\n",
       " 'Appeal for economic cooperation': 141,\n",
       " 'Demand political reform': 142,\n",
       " 'Declare truce, ceasefire': 143,\n",
       " 'Reduce or stop humanitarian assistance': 144,\n",
       " 'Reject request for policy change': 145,\n",
       " 'Attempt to assassinate': 146,\n",
       " 'Expel or withdraw': 147,\n",
       " 'Express accord': 148,\n",
       " 'Appeal for policy change': 149,\n",
       " 'Impose state of emergency or martial law': 150,\n",
       " 'Reject request for change in leadership': 151,\n",
       " 'Express intent to change policy': 152,\n",
       " 'Express intent to change leadership': 153,\n",
       " 'Appeal to others to settle dispute': 154,\n",
       " 'Threaten with sanctions, boycott, embargo': 155,\n",
       " 'Accuse of espionage, treason': 156,\n",
       " 'Demand release of persons or property': 157,\n",
       " 'Demand rights': 158,\n",
       " 'Appeal for military aid': 159,\n",
       " 'Use tactics of violent repression': 160,\n",
       " 'Threaten to reduce or stop aid': 161,\n",
       " 'Torture': 162,\n",
       " 'Ease administrative sanctions': 163,\n",
       " 'Express intent to engage in material cooperation': 164,\n",
       " 'Reduce or stop material aid': 165,\n",
       " 'Express intent to ease economic sanctions, boycott, or embargo': 166,\n",
       " 'Reduce or stop economic assistance': 167,\n",
       " 'Conduct hunger strike': 168,\n",
       " 'Demonstrate for policy change': 169,\n",
       " 'Engage in violent protest for policy change': 170,\n",
       " 'Engage in mass killings': 171,\n",
       " 'Appeal for release of persons or property': 172,\n",
       " 'Investigate human rights abuses': 173,\n",
       " 'Demand economic aid': 174,\n",
       " 'Express intent to accept mediation': 175,\n",
       " 'Threaten to halt mediation': 176,\n",
       " 'Halt mediation': 177,\n",
       " 'Demand mediation': 178,\n",
       " 'Engage in judicial cooperation': 179,\n",
       " 'Express intent to cooperate militarily': 180,\n",
       " 'Threaten with administrative sanctions': 181,\n",
       " 'Complain officially': 182,\n",
       " 'Ease military blockade': 183,\n",
       " 'Appeal for military protection or peacekeeping': 184,\n",
       " 'Accede to demands for change in policy': 185,\n",
       " 'Threaten with restrictions on political freedoms': 186,\n",
       " 'Demonstrate for leadership change': 187,\n",
       " 'Appeal for easing of political dissent': 188,\n",
       " 'Accede to requests or demands for political reform': 189,\n",
       " 'Reject economic cooperation': 190,\n",
       " 'Reject request or demand for political reform': 191,\n",
       " 'Ease economic sanctions, boycott, embargo': 192,\n",
       " 'Investigate military action': 193,\n",
       " 'Demand policy change': 194,\n",
       " 'Threaten to impose state of emergency or martial law': 195,\n",
       " 'Appeal for change in institutions, regime': 196,\n",
       " 'Ban political parties or politicians': 197,\n",
       " 'Demand material aid': 198,\n",
       " 'Impose curfew': 199,\n",
       " 'Ease political dissent': 200,\n",
       " 'Threaten with repression': 201,\n",
       " 'Express intent to ease administrative sanctions': 202,\n",
       " 'Demand economic cooperation': 203,\n",
       " 'Appeal for political reform': 204,\n",
       " 'Demand settling of dispute': 205,\n",
       " 'Reduce or stop military assistance': 206,\n",
       " 'Demand military aid': 207,\n",
       " 'Appeal for rights': 208,\n",
       " 'Refuse to ease economic sanctions, boycott, or embargo': 209,\n",
       " 'Reject request for military aid': 210,\n",
       " 'Reject request or demand for material aid': 211,\n",
       " 'Forgive': 212,\n",
       " 'Demand change in institutions, regime': 213,\n",
       " 'Express intent to change institutions, regime': 214,\n",
       " 'Reject mediation': 215,\n",
       " 'Demand that target yields': 216,\n",
       " 'Investigate war crimes': 217}"
      ]
     },
     "execution_count": 18,
     "metadata": {},
     "output_type": "execute_result"
    }
   ],
   "source": [
    "relation_id_maps = pd.Series(relation_ids.id.values, index=relation_ids.relation).to_dict()\n",
    "relation_id_maps"
   ]
  },
  {
   "cell_type": "code",
   "execution_count": 19,
   "metadata": {},
   "outputs": [
    {
     "name": "stderr",
     "output_type": "stream",
     "text": [
      "C:\\Users\\desai\\AppData\\Local\\Temp\\ipykernel_12000\\28446876.py:1: SettingWithCopyWarning: \n",
      "A value is trying to be set on a copy of a slice from a DataFrame.\n",
      "Try using .loc[row_indexer,col_indexer] = value instead\n",
      "\n",
      "See the caveats in the documentation: https://pandas.pydata.org/pandas-docs/stable/user_guide/indexing.html#returning-a-view-versus-a-copy\n",
      "  unique_result['relation_to_id'] = unique_result['relation'].map(relation_id_maps)\n"
     ]
    }
   ],
   "source": [
    "unique_result['relation_to_id'] = unique_result['relation'].map(relation_id_maps)"
   ]
  },
  {
   "cell_type": "code",
   "execution_count": 20,
   "metadata": {},
   "outputs": [
    {
     "data": {
      "text/html": [
       "<div>\n",
       "<style scoped>\n",
       "    .dataframe tbody tr th:only-of-type {\n",
       "        vertical-align: middle;\n",
       "    }\n",
       "\n",
       "    .dataframe tbody tr th {\n",
       "        vertical-align: top;\n",
       "    }\n",
       "\n",
       "    .dataframe thead th {\n",
       "        text-align: right;\n",
       "    }\n",
       "</style>\n",
       "<table border=\"1\" class=\"dataframe\">\n",
       "  <thead>\n",
       "    <tr style=\"text-align: right;\">\n",
       "      <th></th>\n",
       "      <th>source</th>\n",
       "      <th>relation</th>\n",
       "      <th>target</th>\n",
       "      <th>date</th>\n",
       "      <th>text</th>\n",
       "      <th>relation_to_id</th>\n",
       "    </tr>\n",
       "  </thead>\n",
       "  <tbody>\n",
       "    <tr>\n",
       "      <th>0</th>\n",
       "      <td>Armed Gang (Afghanistan)</td>\n",
       "      <td>Carry out suicide bombing</td>\n",
       "      <td>United States</td>\n",
       "      <td>2010-01-01</td>\n",
       "      <td>According to a foreign news agency, a suicide ...</td>\n",
       "      <td>0</td>\n",
       "    </tr>\n",
       "    <tr>\n",
       "      <th>1</th>\n",
       "      <td>Central Intelligence Agency</td>\n",
       "      <td>Make statement</td>\n",
       "      <td>Taliban</td>\n",
       "      <td>2010-01-01</td>\n",
       "      <td>The CIA said a Taliban bomber on Wednesday man...</td>\n",
       "      <td>1</td>\n",
       "    </tr>\n",
       "    <tr>\n",
       "      <th>2</th>\n",
       "      <td>Taliban</td>\n",
       "      <td>Make statement</td>\n",
       "      <td>Attacker (Afghanistan)</td>\n",
       "      <td>2010-01-01</td>\n",
       "      <td>The Taliban claimed responsibility for the att...</td>\n",
       "      <td>1</td>\n",
       "    </tr>\n",
       "    <tr>\n",
       "      <th>3</th>\n",
       "      <td>Citizen (Afghanistan)</td>\n",
       "      <td>Demonstrate or rally</td>\n",
       "      <td>Unspecified Actor</td>\n",
       "      <td>2010-01-01</td>\n",
       "      <td>The case in Kunar has already prompted Afghans...</td>\n",
       "      <td>2</td>\n",
       "    </tr>\n",
       "    <tr>\n",
       "      <th>4</th>\n",
       "      <td>Armed Gang (Afghanistan)</td>\n",
       "      <td>Carry out suicide bombing</td>\n",
       "      <td>Central Intelligence Agency</td>\n",
       "      <td>2010-01-01</td>\n",
       "      <td>The CIA base attacked by a suicide bomber in A...</td>\n",
       "      <td>0</td>\n",
       "    </tr>\n",
       "  </tbody>\n",
       "</table>\n",
       "</div>"
      ],
      "text/plain": [
       "                        source                   relation  \\\n",
       "0     Armed Gang (Afghanistan)  Carry out suicide bombing   \n",
       "1  Central Intelligence Agency             Make statement   \n",
       "2                      Taliban             Make statement   \n",
       "3        Citizen (Afghanistan)       Demonstrate or rally   \n",
       "4     Armed Gang (Afghanistan)  Carry out suicide bombing   \n",
       "\n",
       "                        target        date  \\\n",
       "0                United States  2010-01-01   \n",
       "1                      Taliban  2010-01-01   \n",
       "2       Attacker (Afghanistan)  2010-01-01   \n",
       "3            Unspecified Actor  2010-01-01   \n",
       "4  Central Intelligence Agency  2010-01-01   \n",
       "\n",
       "                                                text  relation_to_id  \n",
       "0  According to a foreign news agency, a suicide ...               0  \n",
       "1  The CIA said a Taliban bomber on Wednesday man...               1  \n",
       "2  The Taliban claimed responsibility for the att...               1  \n",
       "3  The case in Kunar has already prompted Afghans...               2  \n",
       "4  The CIA base attacked by a suicide bomber in A...               0  "
      ]
     },
     "execution_count": 20,
     "metadata": {},
     "output_type": "execute_result"
    }
   ],
   "source": [
    "unique_result.head()"
   ]
  },
  {
   "cell_type": "code",
   "execution_count": 21,
   "metadata": {},
   "outputs": [],
   "source": [
    "# y = F.one_hot(torch.randint(0, 10, (10,)),num_classes = 10)"
   ]
  },
  {
   "cell_type": "code",
   "execution_count": 22,
   "metadata": {},
   "outputs": [],
   "source": [
    "# labels = torch.randint(0, 10, (10,))\n",
    "\n",
    "# # labels --> one-hot \n",
    "# one_hot = torch.nn.functional.one_hot(labels)\n",
    "# # one-hot --> labels\n",
    "# labels_again = torch.argmax(one_hot, dim=1)"
   ]
  },
  {
   "cell_type": "code",
   "execution_count": 23,
   "metadata": {},
   "outputs": [],
   "source": [
    "# y_ids = y[:, :-1].contiguous()\n",
    "# lm_labels = y[:, 1:].clone().detach()\n",
    "# lm_labels[y[:, 1:] == tokenizer.pad_token_id] = -100"
   ]
  },
  {
   "cell_type": "code",
   "execution_count": 24,
   "metadata": {},
   "outputs": [],
   "source": [
    "class EventDataset(Dataset):\n",
    "    def __init__(self, dataframe, tokenizer, source_len, source_text, target_label):\n",
    "        self.tokenizer = tokenizer\n",
    "        self.data = dataframe\n",
    "        self.source_len = source_len\n",
    "        self.source_text = dataframe[source_text]\n",
    "        self.target_label = dataframe[target_label]\n",
    "\n",
    "    def __len__(self):\n",
    "        return len(self.target_label)\n",
    "    \n",
    "    def __getitem__(self, index):\n",
    "        source_text = str(self.source_text[index])\n",
    "        target_label = int(self.target_label[index])\n",
    "        \n",
    "        source = self.tokenizer.batch_encode_plus(\n",
    "            [source_text],\n",
    "            max_length=self.source_len,\n",
    "            pad_to_max_length=True,\n",
    "            truncation=True,\n",
    "            padding=\"max_length\",\n",
    "            return_tensors=\"pt\",\n",
    "        )\n",
    "\n",
    "        source_ids = source[\"input_ids\"].squeeze()\n",
    "        source_mask = source[\"attention_mask\"].squeeze()\n",
    "\n",
    "        return {\n",
    "            \"source_ids\": source_ids.to(dtype=torch.long),\n",
    "            \"source_mask\": source_mask.to(dtype=torch.long),\n",
    "            \"labels\": torch.tensor(target_label, dtype=torch.long),\n",
    "        }"
   ]
  },
  {
   "cell_type": "code",
   "execution_count": 25,
   "metadata": {},
   "outputs": [],
   "source": [
    "def train(epoch, model, device, loader, optimizer):\n",
    "    model.train()\n",
    "    for _, data in enumerate(loader, 0):\n",
    "        labels = data[\"labels\"].to(device, dtype=torch.long)\n",
    "        ids = data[\"source_ids\"].to(device, dtype=torch.long)\n",
    "        mask = data[\"source_mask\"].to(device, dtype=torch.long)\n",
    "\n",
    "        optimizer.zero_grad()\n",
    "        outputs = model(input_ids=ids, attention_mask=mask, labels=labels)\n",
    "\n",
    "        loss = outputs.loss\n",
    "        loss.backward()\n",
    "        optimizer.step()\n",
    "        \n",
    "        del ids, mask, labels, outputs  # Free up memory\n",
    "        torch.cuda.empty_cache()\n",
    "\n",
    "        if _ % 10 == 0:\n",
    "            training_logger.add_row(str(epoch), str(_), str(loss.item()))\n",
    "            console.print(training_logger)"
   ]
  },
  {
   "cell_type": "code",
   "execution_count": 26,
   "metadata": {},
   "outputs": [],
   "source": [
    "def validate(epoch, model, device, loader):\n",
    "    model.eval()\n",
    "    predictions = []\n",
    "    actuals = []\n",
    "    with torch.no_grad():\n",
    "        for _, data in enumerate(loader, 0):\n",
    "            labels = data[\"labels\"].to(device, dtype=torch.long)\n",
    "            ids = data[\"source_ids\"].to(device, dtype=torch.long)\n",
    "            mask = data[\"source_mask\"].to(device, dtype=torch.long)\n",
    "            \n",
    "            outputs = model(input_ids=ids, attention_mask=mask)\n",
    "            logits = outputs.logits\n",
    "            preds = torch.argmax(logits, dim=1)\n",
    "            \n",
    "            predictions.extend(preds.cpu().numpy())\n",
    "            actuals.extend(labels.cpu().numpy())\n",
    "            if _ % 10 == 0:\n",
    "                print(f'Completed {_}')\n",
    "    \n",
    "    return predictions, actuals"
   ]
  },
  {
   "cell_type": "code",
   "execution_count": 27,
   "metadata": {},
   "outputs": [],
   "source": [
    "def T5Trainer(dataframe, source_text, tokenizer, target_text, model, model_params, output_dir=\"./outputs/\"):\n",
    "    torch.manual_seed(model_params[\"SEED\"])\n",
    "    np.random.seed(model_params[\"SEED\"])\n",
    "    torch.backends.cudnn.deterministic = True\n",
    "\n",
    "    print(f\"\"\"[Model]: Loading {model_params[\"MODEL\"]}...\\n\"\"\")\n",
    "\n",
    "    tokenizer = tokenizer\n",
    "    model = model.to(device)\n",
    "\n",
    "    print(f\"[Data]: Reading data...\\n\")\n",
    "\n",
    "    dataframe = dataframe[[source_text, target_text]]\n",
    "    print(dataframe.head(2))\n",
    "\n",
    "    train_size = 0.8\n",
    "    train_dataset = dataframe.sample(frac=train_size, random_state=model_params[\"SEED\"])\n",
    "    val_dataset = dataframe.drop(train_dataset.index).reset_index(drop=True)\n",
    "    train_dataset = train_dataset.reset_index(drop=True)\n",
    "\n",
    "    print(f\"FULL Dataset: {dataframe.shape}\")\n",
    "    print(f\"TRAIN Dataset: {train_dataset.shape}\")\n",
    "    print(f\"TEST Dataset: {val_dataset.shape}\\n\")\n",
    "\n",
    "    training_set = EventDataset(\n",
    "        train_dataset,\n",
    "        tokenizer,\n",
    "        model_params[\"MAX_SOURCE_TEXT_LENGTH\"],\n",
    "        source_text,\n",
    "        target_text,\n",
    "    )\n",
    "\n",
    "    val_set = EventDataset(\n",
    "        val_dataset,\n",
    "        tokenizer,\n",
    "        model_params[\"MAX_SOURCE_TEXT_LENGTH\"],\n",
    "        source_text,\n",
    "        target_text,\n",
    "    )\n",
    "\n",
    "    train_params = {\n",
    "        \"batch_size\": model_params[\"TRAIN_BATCH_SIZE\"],\n",
    "        \"shuffle\": True,\n",
    "        \"num_workers\": 0,\n",
    "    }\n",
    "\n",
    "    val_params = {\n",
    "        \"batch_size\": model_params[\"VALID_BATCH_SIZE\"],\n",
    "        \"shuffle\": False,\n",
    "        \"num_workers\": 0,\n",
    "    }\n",
    "\n",
    "    training_loader = DataLoader(training_set, **train_params)\n",
    "    val_loader = DataLoader(val_set, **val_params)\n",
    "\n",
    "    optimizer = torch.optim.Adam(\n",
    "        params=model.parameters(), lr=model_params[\"LEARNING_RATE\"]\n",
    "    )\n",
    "\n",
    "    print(f\"[Initiating Fine Tuning]...\\n\")\n",
    "    for epoch in range(model_params[\"TRAIN_EPOCHS\"]):\n",
    "        train(epoch, model, device, training_loader, optimizer)\n",
    "\n",
    "\n",
    "    print(f\"[Saving Model]...\\n\")\n",
    "    path = os.path.join(output_dir, \"model_files\")\n",
    "    model.save_pretrained(path)\n",
    "    tokenizer.save_pretrained(path)\n",
    "\n",
    "\n",
    "    print(f\"[Initiating Validation]...\\n\")\n",
    "    for epoch in range(model_params[\"VAL_EPOCHS\"]):\n",
    "        predictions, actuals = validate(epoch, model, device, val_loader)\n",
    "        final_df = pd.DataFrame({\"Predictions\": predictions, \"Actuals\": actuals})\n",
    "        final_df.to_csv(os.path.join(output_dir, \"predictions.csv\"))\n",
    "\n",
    "    print(f\"[Validation Completed.]\\n\")\n",
    "    print(f\"\"\"[Model] Model saved @ {os.path.join(output_dir, \"model_files\")}\\n\"\"\")\n",
    "    print(f\"\"\"[Validation] Predictions on Validation data saved @ {os.path.join(output_dir,'predictions.csv')}\\n\"\"\")\n",
    "    print(f\"\"\"[Logs] Logs saved @ {os.path.join(output_dir,'logs.txt')}\\n\"\"\")"
   ]
  },
  {
   "cell_type": "code",
   "execution_count": 32,
   "metadata": {},
   "outputs": [],
   "source": [
    "# let's define model parameters specific to T5\n",
    "model_params = {\n",
    "    \"MODEL\": \"t5-xl\",  # model_type: t5-base/t5-large\n",
    "    \"TRAIN_BATCH_SIZE\": 8,  # training batch size\n",
    "    \"VALID_BATCH_SIZE\": 8,  # validation batch size\n",
    "    \"TRAIN_EPOCHS\": 3,  # number of training epochs\n",
    "    \"VAL_EPOCHS\": 1,  # number of validation epochs\n",
    "    \"LEARNING_RATE\": 1e-4,  # learning rate\n",
    "    \"MAX_SOURCE_TEXT_LENGTH\": 512,  # max length of source text\n",
    "    \"MAX_TARGET_TEXT_LENGTH\": 50,  # max length of target text\n",
    "    \"SEED\": 42,  # set seed for reproducibility\n",
    "}"
   ]
  },
  {
   "cell_type": "code",
   "execution_count": 33,
   "metadata": {},
   "outputs": [
    {
     "name": "stderr",
     "output_type": "stream",
     "text": [
      "WARNING:accelerate.big_modeling:You shouldn't move a model that is dispatched using accelerate hooks.\n"
     ]
    },
    {
     "name": "stdout",
     "output_type": "stream",
     "text": [
      "[Model]: Loading t5-xl...\n",
      "\n"
     ]
    },
    {
     "ename": "RuntimeError",
     "evalue": "You can't move a model that has some modules offloaded to cpu or disk.",
     "output_type": "error",
     "traceback": [
      "\u001b[1;31m---------------------------------------------------------------------------\u001b[0m",
      "\u001b[1;31mRuntimeError\u001b[0m                              Traceback (most recent call last)",
      "Cell \u001b[1;32mIn[33], line 1\u001b[0m\n\u001b[1;32m----> 1\u001b[0m \u001b[43mT5Trainer\u001b[49m\u001b[43m(\u001b[49m\n\u001b[0;32m      2\u001b[0m \u001b[43m    \u001b[49m\u001b[43mdataframe\u001b[49m\u001b[38;5;241;43m=\u001b[39;49m\u001b[43munique_result\u001b[49m\u001b[43m,\u001b[49m\n\u001b[0;32m      3\u001b[0m \u001b[43m    \u001b[49m\u001b[43msource_text\u001b[49m\u001b[38;5;241;43m=\u001b[39;49m\u001b[38;5;124;43m\"\u001b[39;49m\u001b[38;5;124;43mtext\u001b[39;49m\u001b[38;5;124;43m\"\u001b[39;49m\u001b[43m,\u001b[49m\n\u001b[0;32m      4\u001b[0m \u001b[43m    \u001b[49m\u001b[43mtokenizer\u001b[49m\u001b[43m \u001b[49m\u001b[38;5;241;43m=\u001b[39;49m\u001b[43m \u001b[49m\u001b[43mtokenizer\u001b[49m\u001b[43m,\u001b[49m\n\u001b[0;32m      5\u001b[0m \u001b[43m    \u001b[49m\u001b[43mtarget_text\u001b[49m\u001b[38;5;241;43m=\u001b[39;49m\u001b[38;5;124;43m\"\u001b[39;49m\u001b[38;5;124;43mrelation_to_id\u001b[39;49m\u001b[38;5;124;43m\"\u001b[39;49m\u001b[43m,\u001b[49m\n\u001b[0;32m      6\u001b[0m \u001b[43m    \u001b[49m\u001b[43mmodel_params\u001b[49m\u001b[38;5;241;43m=\u001b[39;49m\u001b[43mmodel_params\u001b[49m\u001b[43m,\u001b[49m\n\u001b[0;32m      7\u001b[0m \u001b[43m    \u001b[49m\u001b[43mmodel\u001b[49m\u001b[43m \u001b[49m\u001b[38;5;241;43m=\u001b[39;49m\u001b[43m \u001b[49m\u001b[43mmodel\u001b[49m\u001b[43m,\u001b[49m\n\u001b[0;32m      8\u001b[0m \u001b[43m    \u001b[49m\u001b[43moutput_dir\u001b[49m\u001b[38;5;241;43m=\u001b[39;49m\u001b[38;5;124;43m\"\u001b[39;49m\u001b[38;5;124;43m../notebooks and .py/outputs/\u001b[39;49m\u001b[38;5;124;43m\"\u001b[39;49m\u001b[43m,\u001b[49m\n\u001b[0;32m      9\u001b[0m \u001b[43m)\u001b[49m\n",
      "Cell \u001b[1;32mIn[27], line 9\u001b[0m, in \u001b[0;36mT5Trainer\u001b[1;34m(dataframe, source_text, tokenizer, target_text, model, model_params, output_dir)\u001b[0m\n\u001b[0;32m      6\u001b[0m \u001b[38;5;28mprint\u001b[39m(\u001b[38;5;124mf\u001b[39m\u001b[38;5;124m\"\"\"\u001b[39m\u001b[38;5;124m[Model]: Loading \u001b[39m\u001b[38;5;132;01m{\u001b[39;00mmodel_params[\u001b[38;5;124m\"\u001b[39m\u001b[38;5;124mMODEL\u001b[39m\u001b[38;5;124m\"\u001b[39m]\u001b[38;5;132;01m}\u001b[39;00m\u001b[38;5;124m...\u001b[39m\u001b[38;5;130;01m\\n\u001b[39;00m\u001b[38;5;124m\"\"\"\u001b[39m)\n\u001b[0;32m      8\u001b[0m tokenizer \u001b[38;5;241m=\u001b[39m tokenizer\n\u001b[1;32m----> 9\u001b[0m model \u001b[38;5;241m=\u001b[39m \u001b[43mmodel\u001b[49m\u001b[38;5;241;43m.\u001b[39;49m\u001b[43mto\u001b[49m\u001b[43m(\u001b[49m\u001b[43mdevice\u001b[49m\u001b[43m)\u001b[49m\n\u001b[0;32m     11\u001b[0m \u001b[38;5;28mprint\u001b[39m(\u001b[38;5;124mf\u001b[39m\u001b[38;5;124m\"\u001b[39m\u001b[38;5;124m[Data]: Reading data...\u001b[39m\u001b[38;5;130;01m\\n\u001b[39;00m\u001b[38;5;124m\"\u001b[39m)\n\u001b[0;32m     13\u001b[0m dataframe \u001b[38;5;241m=\u001b[39m dataframe[[source_text, target_text]]\n",
      "File \u001b[1;32m~\\anaconda3\\envs\\cuda_test\\lib\\site-packages\\accelerate\\big_modeling.py:455\u001b[0m, in \u001b[0;36mdispatch_model.<locals>.add_warning.<locals>.wrapper\u001b[1;34m(*args, **kwargs)\u001b[0m\n\u001b[0;32m    453\u001b[0m \u001b[38;5;28;01mfor\u001b[39;00m param \u001b[38;5;129;01min\u001b[39;00m model\u001b[38;5;241m.\u001b[39mparameters():\n\u001b[0;32m    454\u001b[0m     \u001b[38;5;28;01mif\u001b[39;00m param\u001b[38;5;241m.\u001b[39mdevice \u001b[38;5;241m==\u001b[39m torch\u001b[38;5;241m.\u001b[39mdevice(\u001b[38;5;124m\"\u001b[39m\u001b[38;5;124mmeta\u001b[39m\u001b[38;5;124m\"\u001b[39m):\n\u001b[1;32m--> 455\u001b[0m         \u001b[38;5;28;01mraise\u001b[39;00m \u001b[38;5;167;01mRuntimeError\u001b[39;00m(\u001b[38;5;124m\"\u001b[39m\u001b[38;5;124mYou can\u001b[39m\u001b[38;5;124m'\u001b[39m\u001b[38;5;124mt move a model that has some modules offloaded to cpu or disk.\u001b[39m\u001b[38;5;124m\"\u001b[39m)\n\u001b[0;32m    456\u001b[0m \u001b[38;5;28;01mreturn\u001b[39;00m fn(\u001b[38;5;241m*\u001b[39margs, \u001b[38;5;241m*\u001b[39m\u001b[38;5;241m*\u001b[39mkwargs)\n",
      "\u001b[1;31mRuntimeError\u001b[0m: You can't move a model that has some modules offloaded to cpu or disk."
     ]
    }
   ],
   "source": [
    "T5Trainer(\n",
    "    dataframe=unique_result,\n",
    "    source_text=\"text\",\n",
    "    tokenizer = tokenizer,\n",
    "    target_text=\"relation_to_id\",\n",
    "    model_params=model_params,\n",
    "    model = model,\n",
    "    output_dir=\"../notebooks and .py/outputs/\",\n",
    ")"
   ]
  },
  {
   "cell_type": "code",
   "execution_count": null,
   "metadata": {},
   "outputs": [],
   "source": []
  }
 ],
 "metadata": {
  "kaggle": {
   "accelerator": "gpu",
   "dataSources": [
    {
     "datasetId": 5279914,
     "sourceId": 8783270,
     "sourceType": "datasetVersion"
    }
   ],
   "dockerImageVersionId": 30733,
   "isGpuEnabled": true,
   "isInternetEnabled": true,
   "language": "python",
   "sourceType": "notebook"
  },
  "kernelspec": {
   "display_name": "Python 3 (ipykernel)",
   "language": "python",
   "name": "python3"
  },
  "language_info": {
   "codemirror_mode": {
    "name": "ipython",
    "version": 3
   },
   "file_extension": ".py",
   "mimetype": "text/x-python",
   "name": "python",
   "nbconvert_exporter": "python",
   "pygments_lexer": "ipython3",
   "version": "3.8.19"
  }
 },
 "nbformat": 4,
 "nbformat_minor": 4
}
