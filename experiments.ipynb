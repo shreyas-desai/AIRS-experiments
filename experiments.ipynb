{
 "cells": [
  {
   "cell_type": "code",
   "execution_count": 1,
   "metadata": {},
   "outputs": [],
   "source": [
    "from transformers import T5Tokenizer, T5ForConditionalGeneration\n",
    "import pandas as pd"
   ]
  },
  {
   "cell_type": "code",
   "execution_count": 4,
   "metadata": {},
   "outputs": [],
   "source": [
    "afg_data = pd.read_csv(\"D:/personal-Shreyas/AIRS/data/Partial ICEWS Data/test_quintuples_AFG.csv\")\n",
    "ind_data = pd.read_csv(\"D:/personal-Shreyas/AIRS/data/Partial ICEWS Data/test_quintuples_IND.csv\")\n",
    "irn_data = pd.read_csv(\"D:/personal-Shreyas/AIRS/data/Partial ICEWS Data/test_quintuples_IRN.csv\")"
   ]
  },
  {
   "cell_type": "code",
   "execution_count": 5,
   "metadata": {},
   "outputs": [
    {
     "data": {
      "text/html": [
       "<div>\n",
       "<style scoped>\n",
       "    .dataframe tbody tr th:only-of-type {\n",
       "        vertical-align: middle;\n",
       "    }\n",
       "\n",
       "    .dataframe tbody tr th {\n",
       "        vertical-align: top;\n",
       "    }\n",
       "\n",
       "    .dataframe thead th {\n",
       "        text-align: right;\n",
       "    }\n",
       "</style>\n",
       "<table border=\"1\" class=\"dataframe\">\n",
       "  <thead>\n",
       "    <tr style=\"text-align: right;\">\n",
       "      <th></th>\n",
       "      <th>source</th>\n",
       "      <th>relation</th>\n",
       "      <th>target</th>\n",
       "      <th>time</th>\n",
       "      <th>text</th>\n",
       "    </tr>\n",
       "  </thead>\n",
       "  <tbody>\n",
       "    <tr>\n",
       "      <th>0</th>\n",
       "      <td>Police (India)</td>\n",
       "      <td>Arrest, detain, or charge with legal action</td>\n",
       "      <td>Criminal (India)</td>\n",
       "      <td>2015-09-08</td>\n",
       "      <td>Acting on a tip, officials of the Kavi Nagar p...</td>\n",
       "    </tr>\n",
       "    <tr>\n",
       "      <th>1</th>\n",
       "      <td>John Kerry</td>\n",
       "      <td>Make optimistic comment</td>\n",
       "      <td>Iran</td>\n",
       "      <td>2015-09-23</td>\n",
       "      <td>(Background: The Iranian Foreign Ministry spok...</td>\n",
       "    </tr>\n",
       "    <tr>\n",
       "      <th>2</th>\n",
       "      <td>Syria</td>\n",
       "      <td>Engage in diplomatic cooperation</td>\n",
       "      <td>Russia</td>\n",
       "      <td>2015-10-18</td>\n",
       "      <td>The cooperation between Iran, Iraq, Russia and...</td>\n",
       "    </tr>\n",
       "    <tr>\n",
       "      <th>3</th>\n",
       "      <td>Jaysh al-Islam</td>\n",
       "      <td>Make statement</td>\n",
       "      <td>Iran</td>\n",
       "      <td>2016-01-04</td>\n",
       "      <td>The group, whose leader was killed in a Dec. 2...</td>\n",
       "    </tr>\n",
       "    <tr>\n",
       "      <th>4</th>\n",
       "      <td>Tofael Ahmed</td>\n",
       "      <td>Make a visit</td>\n",
       "      <td>India</td>\n",
       "      <td>2016-01-09</td>\n",
       "      <td>Tofail, now visiting India, also held a meetin...</td>\n",
       "    </tr>\n",
       "  </tbody>\n",
       "</table>\n",
       "</div>"
      ],
      "text/plain": [
       "           source                                     relation  \\\n",
       "0  Police (India)  Arrest, detain, or charge with legal action   \n",
       "1      John Kerry                      Make optimistic comment   \n",
       "2           Syria             Engage in diplomatic cooperation   \n",
       "3  Jaysh al-Islam                               Make statement   \n",
       "4    Tofael Ahmed                                 Make a visit   \n",
       "\n",
       "             target        time  \\\n",
       "0  Criminal (India)  2015-09-08   \n",
       "1              Iran  2015-09-23   \n",
       "2            Russia  2015-10-18   \n",
       "3              Iran  2016-01-04   \n",
       "4             India  2016-01-09   \n",
       "\n",
       "                                                text  \n",
       "0  Acting on a tip, officials of the Kavi Nagar p...  \n",
       "1  (Background: The Iranian Foreign Ministry spok...  \n",
       "2  The cooperation between Iran, Iraq, Russia and...  \n",
       "3  The group, whose leader was killed in a Dec. 2...  \n",
       "4  Tofail, now visiting India, also held a meetin...  "
      ]
     },
     "execution_count": 5,
     "metadata": {},
     "output_type": "execute_result"
    }
   ],
   "source": [
    "concat_df = pd.concat([afg_data,ind_data,irn_data], axis=0)\n",
    "concat_df = concat_df.sample(frac=1, random_state=0).reset_index(drop=True)\n",
    "concat_df.head()"
   ]
  },
  {
   "cell_type": "code",
   "execution_count": 6,
   "metadata": {},
   "outputs": [
    {
     "data": {
      "text/plain": [
       "168846"
      ]
     },
     "execution_count": 6,
     "metadata": {},
     "output_type": "execute_result"
    }
   ],
   "source": [
    "len(concat_df)"
   ]
  },
  {
   "cell_type": "code",
   "execution_count": 7,
   "metadata": {},
   "outputs": [
    {
     "data": {
      "text/plain": [
       "4152"
      ]
     },
     "execution_count": 7,
     "metadata": {},
     "output_type": "execute_result"
    }
   ],
   "source": [
    "len(concat_df['source'].unique())"
   ]
  },
  {
   "cell_type": "code",
   "execution_count": 8,
   "metadata": {},
   "outputs": [
    {
     "data": {
      "text/plain": [
       "3848"
      ]
     },
     "execution_count": 8,
     "metadata": {},
     "output_type": "execute_result"
    }
   ],
   "source": [
    "len(concat_df['target'].unique())"
   ]
  },
  {
   "cell_type": "code",
   "execution_count": 26,
   "metadata": {},
   "outputs": [
    {
     "data": {
      "text/plain": [
       "array(['Arrest, detain, or charge with legal action',\n",
       "       'Make optimistic comment', 'Engage in diplomatic cooperation',\n",
       "       'Make statement', 'Make a visit', 'Ease administrative sanctions',\n",
       "       'Return, release person(s)', 'Reject',\n",
       "       'Use conventional military force', 'Demand',\n",
       "       'Use unconventional violence', 'Make an appeal or request',\n",
       "       'Express intent to meet or negotiate',\n",
       "       'Share intelligence or information', 'Confiscate property',\n",
       "       'Sexually assault', 'Demonstrate or rally', 'Accuse',\n",
       "       'Bring lawsuit against', 'Host a visit', 'Consult',\n",
       "       'Make pessimistic comment', 'Praise or endorse',\n",
       "       'Impose administrative sanctions', 'Cooperate militarily',\n",
       "       'Deny responsibility', 'Criticize or denounce',\n",
       "       'fight with small arms and light weapons',\n",
       "       'Reduce or break diplomatic relations',\n",
       "       'Express intent to cooperate', 'Engage in negotiation',\n",
       "       'Conduct suicide, car, or other non-military bombing',\n",
       "       'Protest violently, riot', 'Threaten', 'Sign formal agreement',\n",
       "       'Investigate', 'Occupy territory',\n",
       "       'Express intent to provide humanitarian aid',\n",
       "       'Make empathetic comment', 'Demand change in leadership',\n",
       "       'Retreat or surrender militarily', 'Employ aerial weapons',\n",
       "       'Rally opposition against', 'Expel or deport individuals',\n",
       "       'Conduct strike or boycott',\n",
       "       'Demonstrate military or police power', 'Discuss by telephone',\n",
       "       'Express intent to settle dispute',\n",
       "       'Abduct, hijack, or take hostage', 'Provide humanitarian aid',\n",
       "       'Defy norms, law',\n",
       "       'Express intent to engage in diplomatic cooperation (such as policy support)',\n",
       "       'Physically assault', 'Express intent to provide economic aid',\n",
       "       'Engage in symbolic act', 'Mobilize or increase police power',\n",
       "       'Impose embargo, boycott, or sanctions',\n",
       "       'Carry out suicide bombing', 'Conduct hunger strike',\n",
       "       'Reduce relations', 'Express intent to cooperate economically',\n",
       "       'Consider policy option',\n",
       "       'Reject proposal to meet, discuss, or negotiate',\n",
       "       'Grant diplomatic recognition',\n",
       "       'Demand diplomatic cooperation (such as policy support)',\n",
       "       'Engage in material cooperation', 'Cooperate economically',\n",
       "       'Accuse of crime, corruption', 'Complain officially',\n",
       "       'Reduce or stop economic assistance', 'Express accord',\n",
       "       'Reject economic cooperation',\n",
       "       'Appeal for diplomatic cooperation (such as policy support)',\n",
       "       'Appeal for de-escalation of military engagement',\n",
       "       \"Meet at a 'third' location\",\n",
       "       'Ease economic sanctions, boycott, embargo',\n",
       "       'Rally support on behalf of', 'Kill by physical assault',\n",
       "       'Appeal for military aid',\n",
       "       'Express intent to provide material aid',\n",
       "       'Express intent to ease economic sanctions, boycott, or embargo',\n",
       "       'Appeal for economic aid', 'Threaten with military force',\n",
       "       'Investigate crime, corruption',\n",
       "       'Demonstrate for leadership change',\n",
       "       'Express intent to release persons or property',\n",
       "       'Destroy property', 'Coerce', 'Provide aid', 'Forgive',\n",
       "       'Mobilize or increase armed forces', 'Provide military aid',\n",
       "       'Assassinate', 'Refuse to yield', 'Express intent to yield',\n",
       "       'Accuse of human rights abuses',\n",
       "       'Use tactics of violent repression',\n",
       "       'Appeal for judicial cooperation', 'Express intent to mediate',\n",
       "       'Obstruct passage, block', 'Provide economic aid',\n",
       "       'Reject judicial cooperation',\n",
       "       'Express intent to provide military aid', 'Give ultimatum',\n",
       "       'Accuse of aggression', 'fight with artillery and tanks', 'Yield',\n",
       "       'Express intent to cooperate militarily',\n",
       "       'Express intent to engage in material cooperation',\n",
       "       'Threaten to reduce or break relations',\n",
       "       'Demand intelligence cooperation', 'Declare truce, ceasefire',\n",
       "       'Provide military protection or peacekeeping',\n",
       "       'Acknowledge or claim responsibility',\n",
       "       'Demand meeting, negotiation', 'Apologize', 'Defend verbally',\n",
       "       'Torture', 'Appeal for aid',\n",
       "       'Appeal to others to meet or negotiate', 'Appeal for rights',\n",
       "       'Decline comment', 'Mediate',\n",
       "       'Refuse to release persons or property',\n",
       "       'Express intent to de-escalate military engagement',\n",
       "       'Ease political dissent', 'Engage in mass killings',\n",
       "       'Seize or damage property',\n",
       "       'Express intent to change institutions, regime',\n",
       "       'Demand economic aid', 'Demand rights',\n",
       "       'Appeal for humanitarian aid', 'Appeal for economic cooperation',\n",
       "       'Impose curfew', 'Express intent to ease administrative sanctions',\n",
       "       'Accuse of espionage, treason', 'Appeal to yield',\n",
       "       'Halt negotiations',\n",
       "       'Appeal for easing of administrative sanctions',\n",
       "       'Appeal to others to settle dispute',\n",
       "       'Increase police alert status',\n",
       "       'Threaten with political dissent, protest', 'Demand military aid',\n",
       "       'Accede to demands for change in policy',\n",
       "       'Appeal for intelligence', 'Demand mediation',\n",
       "       'Appeal for easing of political dissent',\n",
       "       'Reject plan, agreement to settle dispute',\n",
       "       'Demobilize armed forces', 'Reduce or stop material aid',\n",
       "       'Increase military alert status',\n",
       "       'Appeal to engage in or accept mediation',\n",
       "       'Accede to demands for change in leadership',\n",
       "       'Impose blockade, restrict movement',\n",
       "       'Refuse to ease economic sanctions, boycott, or embargo',\n",
       "       'Engage in judicial cooperation',\n",
       "       'Appeal for release of persons or property',\n",
       "       'Appeal for change in leadership',\n",
       "       'Express intent to accept mediation',\n",
       "       'Accede to demands for rights',\n",
       "       'Reject request for change in leadership',\n",
       "       'Threaten with sanctions, boycott, embargo',\n",
       "       'Demand material cooperation',\n",
       "       'Conduct hunger strike for leadership change',\n",
       "       'Threaten to reduce or stop aid', 'Use as human shield',\n",
       "       'Impose restrictions on political freedoms',\n",
       "       'Express intent to allow international involvement (non-mediation)',\n",
       "       'Carry out car bombing', 'Accuse of war crimes',\n",
       "       'Return, release property', 'Express intent to change policy',\n",
       "       'Threaten with repression',\n",
       "       'Demand change in institutions, regime',\n",
       "       'Appeal for material cooperation',\n",
       "       'Ban political parties or politicians',\n",
       "       'Refuse to ease administrative sanctions',\n",
       "       'Reduce or stop military assistance',\n",
       "       'Receive deployment of peacekeepers',\n",
       "       'Threaten with restrictions on political freedoms', 'Grant asylum',\n",
       "       'Express intent to cooperate on judicial matters',\n",
       "       'Demand that target yields', 'Express intent to change leadership',\n",
       "       'Demand release of persons or property',\n",
       "       'Appeal for easing of economic sanctions, boycott, or embargo',\n",
       "       'Threaten with administrative sanctions',\n",
       "       'Accede to demands for change in institutions, regime',\n",
       "       'Demand settling of dispute', 'Demand judicial cooperation',\n",
       "       'Veto', 'Use chemical, biological, or radiological weapons',\n",
       "       'Threaten non-force', 'Appeal for policy change',\n",
       "       'Express intent to institute political reform',\n",
       "       'Demonstrate for policy change',\n",
       "       'Refuse to de-escalate military engagement',\n",
       "       'Express intent to provide military protection or peacekeeping',\n",
       "       'Appeal for political reform',\n",
       "       'Appeal for change in institutions, regime', 'Halt mediation',\n",
       "       'Engage in political dissent', 'Investigate human rights abuses',\n",
       "       'Violate ceasefire', 'Demand material aid',\n",
       "       'Reduce or stop humanitarian assistance',\n",
       "       'Expel or withdraw peacekeepers', 'Ease curfew',\n",
       "       'Accede to requests or demands for political reform',\n",
       "       'Ease military blockade', 'Receive inspectors',\n",
       "       'Ease ban on political parties or politicians',\n",
       "       'Demand political reform', 'Demand humanitarian aid',\n",
       "       'Investigate war crimes', 'Reject request for economic aid',\n",
       "       'Demand de-escalation of military engagement', 'Reject mediation',\n",
       "       'Engage in violent protest for leadership change',\n",
       "       'Expel or withdraw', 'Demand easing of political dissent'],\n",
       "      dtype=object)"
      ]
     },
     "execution_count": 26,
     "metadata": {},
     "output_type": "execute_result"
    }
   ],
   "source": [
    "concat_df['relation'].unique()"
   ]
  },
  {
   "cell_type": "code",
   "execution_count": 10,
   "metadata": {},
   "outputs": [
    {
     "data": {
      "text/plain": [
       "224"
      ]
     },
     "execution_count": 10,
     "metadata": {},
     "output_type": "execute_result"
    }
   ],
   "source": [
    "len(concat_df['time'].unique())"
   ]
  },
  {
   "cell_type": "code",
   "execution_count": 15,
   "metadata": {},
   "outputs": [
    {
     "name": "stderr",
     "output_type": "stream",
     "text": [
      "C:\\Users\\desai\\anaconda3\\envs\\cuda_test\\lib\\site-packages\\huggingface_hub\\file_download.py:1132: FutureWarning: `resume_download` is deprecated and will be removed in version 1.0.0. Downloads always resume when possible. If you want to force a new download, use `force_download=True`.\n",
      "  warnings.warn(\n",
      "You are using the default legacy behaviour of the <class 'transformers.models.t5.tokenization_t5.T5Tokenizer'>. This is expected, and simply means that the `legacy` (previous) behavior will be used so nothing changes for you. If you want to use the new behaviour, set `legacy=False`. This should only be set if you understand what it means, and thoroughly read the reason why this was added as explained in https://github.com/huggingface/transformers/pull/24565\n",
      "Special tokens have been added in the vocabulary, make sure the associated word embeddings are fine-tuned or trained.\n",
      "WARNING:root:Some parameters are on the meta device device because they were offloaded to the cpu.\n"
     ]
    }
   ],
   "source": [
    "tokenizer = T5Tokenizer.from_pretrained(\"google/flan-t5-large\")\n",
    "model = T5ForConditionalGeneration.from_pretrained(\"google/flan-t5-large\", device_map=\"auto\")"
   ]
  },
  {
   "cell_type": "code",
   "execution_count": 16,
   "metadata": {
    "scrolled": true
   },
   "outputs": [],
   "source": [
    "# input_text = \"translate English to German: How old are you?\"\n",
    "# input_ids = tokenizer(input_text, return_tensors=\"pt\").input_ids.to(\"cuda\")"
   ]
  },
  {
   "cell_type": "code",
   "execution_count": 18,
   "metadata": {},
   "outputs": [],
   "source": [
    "# outputs = model.generate(input_ids)\n",
    "# print(tokenizer.decode(outputs[0]))"
   ]
  },
  {
   "cell_type": "code",
   "execution_count": 23,
   "metadata": {},
   "outputs": [],
   "source": [
    "ip_text = f\"Given a text \\\"{concat_df['text'][0]}\\\", we deduce that the event source is \\\"{concat_df['source'][0]}\\\" and target is \\\"{concat_df['target'][0]}\\\" having a relation \\\"{concat_df['relation'][0]}\\\". Based on this, can you give the reasoning as to how the given source, target and relation are extracted from the text.\"\n",
    "ip_ids = tokenizer(ip_text, return_tensors=\"pt\").input_ids.to(\"cuda\")"
   ]
  },
  {
   "cell_type": "code",
   "execution_count": 24,
   "metadata": {},
   "outputs": [
    {
     "name": "stdout",
     "output_type": "stream",
     "text": [
      "The suspects were arrested by the police station in Kavi Nagar, India. The police station is located in India and the police station is a department. The criminals are located in India and the department is the CBI Academy. The answer: arrest.\n"
     ]
    }
   ],
   "source": [
    "op = model.generate(ip_ids, max_new_tokens=100)\n",
    "print(tokenizer.decode(op[0], skip_special_tokens=True))"
   ]
  },
  {
   "cell_type": "code",
   "execution_count": 25,
   "metadata": {},
   "outputs": [
    {
     "data": {
      "text/plain": [
       "'Given a text \"Acting on a tip, officials of the Kavi Nagar police station nabbed the suspects from near the CBI Academy around noon.\", we deduce that the event source is \"Police (India)\" and target is \"Criminal (India)\" having a relation \"Arrest, detain, or charge with legal action\". Based on this, can you give the reasoning as to how the given source, target and relation are extracted from the text.'"
      ]
     },
     "execution_count": 25,
     "metadata": {},
     "output_type": "execute_result"
    }
   ],
   "source": [
    "ip_text"
   ]
  },
  {
   "cell_type": "code",
   "execution_count": 3,
   "metadata": {},
   "outputs": [],
   "source": [
    "import pandas as pd"
   ]
  },
  {
   "cell_type": "code",
   "execution_count": 7,
   "metadata": {},
   "outputs": [
    {
     "data": {
      "text/html": [
       "<div>\n",
       "<style scoped>\n",
       "    .dataframe tbody tr th:only-of-type {\n",
       "        vertical-align: middle;\n",
       "    }\n",
       "\n",
       "    .dataframe tbody tr th {\n",
       "        vertical-align: top;\n",
       "    }\n",
       "\n",
       "    .dataframe thead th {\n",
       "        text-align: right;\n",
       "    }\n",
       "</style>\n",
       "<table border=\"1\" class=\"dataframe\">\n",
       "  <thead>\n",
       "    <tr style=\"text-align: right;\">\n",
       "      <th></th>\n",
       "      <th>Citizen (India)</th>\n",
       "      <th>Acknowledge or claim responsibility</th>\n",
       "      <th>Special Court (India)</th>\n",
       "      <th>2010-01-01</th>\n",
       "    </tr>\n",
       "  </thead>\n",
       "  <tbody>\n",
       "    <tr>\n",
       "      <th>0</th>\n",
       "      <td>Pakistan</td>\n",
       "      <td>Share intelligence or information</td>\n",
       "      <td>India</td>\n",
       "      <td>2010-01-01</td>\n",
       "    </tr>\n",
       "    <tr>\n",
       "      <th>1</th>\n",
       "      <td>India</td>\n",
       "      <td>Share intelligence or information</td>\n",
       "      <td>Pakistan</td>\n",
       "      <td>2010-01-01</td>\n",
       "    </tr>\n",
       "    <tr>\n",
       "      <th>2</th>\n",
       "      <td>Police (India)</td>\n",
       "      <td>Impose administrative sanctions</td>\n",
       "      <td>Citizen (India)</td>\n",
       "      <td>2010-01-01</td>\n",
       "    </tr>\n",
       "    <tr>\n",
       "      <th>3</th>\n",
       "      <td>Citizen (India)</td>\n",
       "      <td>Demand</td>\n",
       "      <td>Government (India)</td>\n",
       "      <td>2010-01-01</td>\n",
       "    </tr>\n",
       "    <tr>\n",
       "      <th>4</th>\n",
       "      <td>Citizen (India)</td>\n",
       "      <td>Express intent to meet or negotiate</td>\n",
       "      <td>Samajwadi Janata Party</td>\n",
       "      <td>2010-01-01</td>\n",
       "    </tr>\n",
       "  </tbody>\n",
       "</table>\n",
       "</div>"
      ],
      "text/plain": [
       "   Citizen (India)  Acknowledge or claim responsibility  \\\n",
       "0         Pakistan    Share intelligence or information   \n",
       "1            India    Share intelligence or information   \n",
       "2   Police (India)      Impose administrative sanctions   \n",
       "3  Citizen (India)                               Demand   \n",
       "4  Citizen (India)  Express intent to meet or negotiate   \n",
       "\n",
       "    Special Court (India)  2010-01-01  \n",
       "0                   India  2010-01-01  \n",
       "1                Pakistan  2010-01-01  \n",
       "2         Citizen (India)  2010-01-01  \n",
       "3      Government (India)  2010-01-01  \n",
       "4  Samajwadi Janata Party  2010-01-01  "
      ]
     },
     "execution_count": 7,
     "metadata": {},
     "output_type": "execute_result"
    }
   ],
   "source": [
    "data = pd.read_csv(\"D:/personal-Shreyas/AIRS/data/raw_data/rawdat/IND/quadruple.txt\", sep='\\t')\n",
    "data.head()"
   ]
  },
  {
   "cell_type": "code",
   "execution_count": 27,
   "metadata": {},
   "outputs": [
    {
     "data": {
      "text/html": [
       "<div>\n",
       "<style scoped>\n",
       "    .dataframe tbody tr th:only-of-type {\n",
       "        vertical-align: middle;\n",
       "    }\n",
       "\n",
       "    .dataframe tbody tr th {\n",
       "        vertical-align: top;\n",
       "    }\n",
       "\n",
       "    .dataframe thead th {\n",
       "        text-align: right;\n",
       "    }\n",
       "</style>\n",
       "<table border=\"1\" class=\"dataframe\">\n",
       "  <thead>\n",
       "    <tr style=\"text-align: right;\">\n",
       "      <th></th>\n",
       "      <th>source</th>\n",
       "      <th>relation</th>\n",
       "      <th>target</th>\n",
       "      <th>date</th>\n",
       "    </tr>\n",
       "  </thead>\n",
       "  <tbody>\n",
       "    <tr>\n",
       "      <th>0</th>\n",
       "      <td>Citizen (India)</td>\n",
       "      <td>Acknowledge or claim responsibility</td>\n",
       "      <td>Special Court (India)</td>\n",
       "      <td>2010-01-01</td>\n",
       "    </tr>\n",
       "    <tr>\n",
       "      <th>1</th>\n",
       "      <td>Pakistan</td>\n",
       "      <td>Share intelligence or information</td>\n",
       "      <td>India</td>\n",
       "      <td>2010-01-01</td>\n",
       "    </tr>\n",
       "    <tr>\n",
       "      <th>2</th>\n",
       "      <td>India</td>\n",
       "      <td>Share intelligence or information</td>\n",
       "      <td>Pakistan</td>\n",
       "      <td>2010-01-01</td>\n",
       "    </tr>\n",
       "    <tr>\n",
       "      <th>3</th>\n",
       "      <td>Police (India)</td>\n",
       "      <td>Impose administrative sanctions</td>\n",
       "      <td>Citizen (India)</td>\n",
       "      <td>2010-01-01</td>\n",
       "    </tr>\n",
       "    <tr>\n",
       "      <th>4</th>\n",
       "      <td>Citizen (India)</td>\n",
       "      <td>Demand</td>\n",
       "      <td>Government (India)</td>\n",
       "      <td>2010-01-01</td>\n",
       "    </tr>\n",
       "  </tbody>\n",
       "</table>\n",
       "</div>"
      ],
      "text/plain": [
       "            source                             relation  \\\n",
       "0  Citizen (India)  Acknowledge or claim responsibility   \n",
       "1         Pakistan    Share intelligence or information   \n",
       "2            India    Share intelligence or information   \n",
       "3   Police (India)      Impose administrative sanctions   \n",
       "4  Citizen (India)                               Demand   \n",
       "\n",
       "                  target        date  \n",
       "0  Special Court (India)  2010-01-01  \n",
       "1                  India  2010-01-01  \n",
       "2               Pakistan  2010-01-01  \n",
       "3        Citizen (India)  2010-01-01  \n",
       "4     Government (India)  2010-01-01  "
      ]
     },
     "execution_count": 27,
     "metadata": {},
     "output_type": "execute_result"
    }
   ],
   "source": [
    "data = pd.read_csv(\"../data/raw_data/rawdat/IND/quadruple.txt\", sep='\\t', names = [\"source\",\"relation\",\"target\",\"date\"])\n",
    "data.head()"
   ]
  },
  {
   "cell_type": "code",
   "execution_count": 29,
   "metadata": {},
   "outputs": [],
   "source": [
    "data.to_csv(\"D:/personal-Shreyas/AIRS/data/IND_data_quintuples/quadruple.csv\")"
   ]
  },
  {
   "cell_type": "code",
   "execution_count": 30,
   "metadata": {},
   "outputs": [
    {
     "data": {
      "text/html": [
       "<div>\n",
       "<style scoped>\n",
       "    .dataframe tbody tr th:only-of-type {\n",
       "        vertical-align: middle;\n",
       "    }\n",
       "\n",
       "    .dataframe tbody tr th {\n",
       "        vertical-align: top;\n",
       "    }\n",
       "\n",
       "    .dataframe thead th {\n",
       "        text-align: right;\n",
       "    }\n",
       "</style>\n",
       "<table border=\"1\" class=\"dataframe\">\n",
       "  <thead>\n",
       "    <tr style=\"text-align: right;\">\n",
       "      <th></th>\n",
       "      <th>text</th>\n",
       "    </tr>\n",
       "  </thead>\n",
       "  <tbody>\n",
       "    <tr>\n",
       "      <th>0</th>\n",
       "      <td>Mehta was convicted under various sections of ...</td>\n",
       "    </tr>\n",
       "    <tr>\n",
       "      <th>1</th>\n",
       "      <td>NEW DELHI, January 1 (RIA Novosti) - India and...</td>\n",
       "    </tr>\n",
       "    <tr>\n",
       "      <th>2</th>\n",
       "      <td>NEW DELHI, January 1 (RIA Novosti) - India and...</td>\n",
       "    </tr>\n",
       "    <tr>\n",
       "      <th>3</th>\n",
       "      <td>Two magistrates were stationed at Parliament S...</td>\n",
       "    </tr>\n",
       "    <tr>\n",
       "      <th>4</th>\n",
       "      <td>He said that the Bihar government should infor...</td>\n",
       "    </tr>\n",
       "  </tbody>\n",
       "</table>\n",
       "</div>"
      ],
      "text/plain": [
       "                                                text\n",
       "0  Mehta was convicted under various sections of ...\n",
       "1  NEW DELHI, January 1 (RIA Novosti) - India and...\n",
       "2  NEW DELHI, January 1 (RIA Novosti) - India and...\n",
       "3  Two magistrates were stationed at Parliament S...\n",
       "4  He said that the Bihar government should infor..."
      ]
     },
     "execution_count": 30,
     "metadata": {},
     "output_type": "execute_result"
    }
   ],
   "source": [
    "text = pd.read_csv(\"../data/raw_data/rawdat/IND/text.txt\", sep='\\t', names = [\"text\"])\n",
    "text.head()"
   ]
  },
  {
   "cell_type": "code",
   "execution_count": 31,
   "metadata": {},
   "outputs": [],
   "source": [
    "data['source'] = data['source'].str.strip()\n",
    "data['relation'] = data['relation'].str.strip()\n",
    "data['target'] = data['target'].str.strip()\n",
    "text['text'] = text['text'].str.strip()"
   ]
  },
  {
   "cell_type": "code",
   "execution_count": 32,
   "metadata": {},
   "outputs": [
    {
     "data": {
      "text/html": [
       "<div>\n",
       "<style scoped>\n",
       "    .dataframe tbody tr th:only-of-type {\n",
       "        vertical-align: middle;\n",
       "    }\n",
       "\n",
       "    .dataframe tbody tr th {\n",
       "        vertical-align: top;\n",
       "    }\n",
       "\n",
       "    .dataframe thead th {\n",
       "        text-align: right;\n",
       "    }\n",
       "</style>\n",
       "<table border=\"1\" class=\"dataframe\">\n",
       "  <thead>\n",
       "    <tr style=\"text-align: right;\">\n",
       "      <th></th>\n",
       "      <th>source</th>\n",
       "      <th>relation</th>\n",
       "      <th>target</th>\n",
       "      <th>date</th>\n",
       "      <th>text</th>\n",
       "    </tr>\n",
       "  </thead>\n",
       "  <tbody>\n",
       "    <tr>\n",
       "      <th>0</th>\n",
       "      <td>Citizen (India)</td>\n",
       "      <td>Acknowledge or claim responsibility</td>\n",
       "      <td>Special Court (India)</td>\n",
       "      <td>2010-01-01</td>\n",
       "      <td>Mehta was convicted under various sections of ...</td>\n",
       "    </tr>\n",
       "    <tr>\n",
       "      <th>1</th>\n",
       "      <td>Pakistan</td>\n",
       "      <td>Share intelligence or information</td>\n",
       "      <td>India</td>\n",
       "      <td>2010-01-01</td>\n",
       "      <td>NEW DELHI, January 1 (RIA Novosti) - India and...</td>\n",
       "    </tr>\n",
       "    <tr>\n",
       "      <th>2</th>\n",
       "      <td>India</td>\n",
       "      <td>Share intelligence or information</td>\n",
       "      <td>Pakistan</td>\n",
       "      <td>2010-01-01</td>\n",
       "      <td>NEW DELHI, January 1 (RIA Novosti) - India and...</td>\n",
       "    </tr>\n",
       "    <tr>\n",
       "      <th>3</th>\n",
       "      <td>Police (India)</td>\n",
       "      <td>Impose administrative sanctions</td>\n",
       "      <td>Citizen (India)</td>\n",
       "      <td>2010-01-01</td>\n",
       "      <td>Two magistrates were stationed at Parliament S...</td>\n",
       "    </tr>\n",
       "    <tr>\n",
       "      <th>4</th>\n",
       "      <td>Citizen (India)</td>\n",
       "      <td>Demand</td>\n",
       "      <td>Government (India)</td>\n",
       "      <td>2010-01-01</td>\n",
       "      <td>He said that the Bihar government should infor...</td>\n",
       "    </tr>\n",
       "  </tbody>\n",
       "</table>\n",
       "</div>"
      ],
      "text/plain": [
       "            source                             relation  \\\n",
       "0  Citizen (India)  Acknowledge or claim responsibility   \n",
       "1         Pakistan    Share intelligence or information   \n",
       "2            India    Share intelligence or information   \n",
       "3   Police (India)      Impose administrative sanctions   \n",
       "4  Citizen (India)                               Demand   \n",
       "\n",
       "                  target        date  \\\n",
       "0  Special Court (India)  2010-01-01   \n",
       "1                  India  2010-01-01   \n",
       "2               Pakistan  2010-01-01   \n",
       "3        Citizen (India)  2010-01-01   \n",
       "4     Government (India)  2010-01-01   \n",
       "\n",
       "                                                text  \n",
       "0  Mehta was convicted under various sections of ...  \n",
       "1  NEW DELHI, January 1 (RIA Novosti) - India and...  \n",
       "2  NEW DELHI, January 1 (RIA Novosti) - India and...  \n",
       "3  Two magistrates were stationed at Parliament S...  \n",
       "4  He said that the Bihar government should infor...  "
      ]
     },
     "execution_count": 32,
     "metadata": {},
     "output_type": "execute_result"
    }
   ],
   "source": [
    "result = pd.concat([data,text],axis=1)\n",
    "result.head()"
   ]
  },
  {
   "cell_type": "code",
   "execution_count": 35,
   "metadata": {},
   "outputs": [],
   "source": [
    "result.to_csv(\"D:/personal-Shreyas/AIRS/data/IND_data_quintuples/train.csv\")"
   ]
  },
  {
   "cell_type": "code",
   "execution_count": null,
   "metadata": {},
   "outputs": [],
   "source": []
  }
 ],
 "metadata": {
  "kernelspec": {
   "display_name": "Python 3 (ipykernel)",
   "language": "python",
   "name": "python3"
  },
  "language_info": {
   "codemirror_mode": {
    "name": "ipython",
    "version": 3
   },
   "file_extension": ".py",
   "mimetype": "text/x-python",
   "name": "python",
   "nbconvert_exporter": "python",
   "pygments_lexer": "ipython3",
   "version": "3.8.19"
  }
 },
 "nbformat": 4,
 "nbformat_minor": 4
}
