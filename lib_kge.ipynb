{
 "cells": [
  {
   "cell_type": "code",
   "execution_count": 1,
   "id": "685ec3d4-f159-4208-b372-17feb670a10b",
   "metadata": {},
   "outputs": [
    {
     "name": "stderr",
     "output_type": "stream",
     "text": [
      "C:\\Users\\desai\\anaconda3\\envs\\cuda_test\\lib\\site-packages\\torchvision\\io\\image.py:13: UserWarning: Failed to load image Python extension: '[WinError 127] The specified procedure could not be found'If you don't plan on using image functionality from `torchvision.io`, you can ignore this warning. Otherwise, there might be something wrong with your environment. Did you have `libjpeg` or `libpng` installed before building `torchvision` from source?\n",
      "  warn(\n"
     ]
    }
   ],
   "source": [
    "import torch\n",
    "from kge.model import KgeModel\n",
    "from kge.util.io import load_checkpoint"
   ]
  },
  {
   "cell_type": "code",
   "execution_count": 8,
   "id": "f7418093-74db-49d3-8a72-78c74fc53cee",
   "metadata": {},
   "outputs": [
    {
     "data": {
      "text/html": [
       "<div>\n",
       "<style scoped>\n",
       "    .dataframe tbody tr th:only-of-type {\n",
       "        vertical-align: middle;\n",
       "    }\n",
       "\n",
       "    .dataframe tbody tr th {\n",
       "        vertical-align: top;\n",
       "    }\n",
       "\n",
       "    .dataframe thead th {\n",
       "        text-align: right;\n",
       "    }\n",
       "</style>\n",
       "<table border=\"1\" class=\"dataframe\">\n",
       "  <thead>\n",
       "    <tr style=\"text-align: right;\">\n",
       "      <th></th>\n",
       "      <th>src</th>\n",
       "      <th>rel</th>\n",
       "      <th>dst</th>\n",
       "      <th>time</th>\n",
       "    </tr>\n",
       "  </thead>\n",
       "  <tbody>\n",
       "    <tr>\n",
       "      <th>0</th>\n",
       "      <td>2</td>\n",
       "      <td>121</td>\n",
       "      <td>85</td>\n",
       "      <td>0</td>\n",
       "    </tr>\n",
       "    <tr>\n",
       "      <th>1</th>\n",
       "      <td>31</td>\n",
       "      <td>58</td>\n",
       "      <td>1</td>\n",
       "      <td>0</td>\n",
       "    </tr>\n",
       "    <tr>\n",
       "      <th>2</th>\n",
       "      <td>1</td>\n",
       "      <td>58</td>\n",
       "      <td>31</td>\n",
       "      <td>0</td>\n",
       "    </tr>\n",
       "    <tr>\n",
       "      <th>3</th>\n",
       "      <td>0</td>\n",
       "      <td>49</td>\n",
       "      <td>2</td>\n",
       "      <td>0</td>\n",
       "    </tr>\n",
       "    <tr>\n",
       "      <th>4</th>\n",
       "      <td>2</td>\n",
       "      <td>15</td>\n",
       "      <td>9</td>\n",
       "      <td>0</td>\n",
       "    </tr>\n",
       "  </tbody>\n",
       "</table>\n",
       "</div>"
      ],
      "text/plain": [
       "   src  rel  dst  time\n",
       "0    2  121   85     0\n",
       "1   31   58    1     0\n",
       "2    1   58   31     0\n",
       "3    0   49    2     0\n",
       "4    2   15    9     0"
      ]
     },
     "execution_count": 8,
     "metadata": {},
     "output_type": "execute_result"
    }
   ],
   "source": [
    "data = pd.read_csv(\"../data/raw_data/rawdat/IND/quadruple_idx.txt\", sep=\"\\t\", names=['src','rel','dst','time'])\n",
    "data.head()"
   ]
  },
  {
   "cell_type": "code",
   "execution_count": 9,
   "id": "cab0b4b5-38a1-44e7-b320-aaf01d1ac25e",
   "metadata": {},
   "outputs": [
    {
     "data": {
      "text/plain": [
       "479649"
      ]
     },
     "execution_count": 9,
     "metadata": {},
     "output_type": "execute_result"
    }
   ],
   "source": [
    "len(data)"
   ]
  },
  {
   "cell_type": "code",
   "execution_count": 16,
   "id": "f6f045ca-b374-4798-b81d-19bbbae5e022",
   "metadata": {},
   "outputs": [],
   "source": [
    "train_len = int(len(data)*70/100)\n",
    "val_len = int(len(data)*20/100)\n",
    "test_len = int(len(data)*10/100)"
   ]
  },
  {
   "cell_type": "code",
   "execution_count": 17,
   "id": "d2914753-2c5d-4b4b-b105-db3e3188cc59",
   "metadata": {},
   "outputs": [
    {
     "data": {
      "text/plain": [
       "(335754, 95929, 47964)"
      ]
     },
     "execution_count": 17,
     "metadata": {},
     "output_type": "execute_result"
    }
   ],
   "source": [
    "train_len, val_len, test_len"
   ]
  },
  {
   "cell_type": "code",
   "execution_count": 28,
   "id": "fcfe0d52-3b27-4fdd-bbb3-ef89ed876e8b",
   "metadata": {},
   "outputs": [],
   "source": [
    "data[:train_len][['src','rel','dst']].to_csv(\"D:\\personal-Shreyas\\AIRS\\kge\\data\\ind\\\\train.txt\", sep=\"\\t\",index=False, header=False)\n",
    "data[train_len:train_len+val_len][['src','rel','dst']].to_csv(\"D:\\personal-Shreyas\\AIRS\\kge\\data\\ind\\\\val.txt\", sep=\"\\t\",index=False, header=False)\n",
    "data[train_len+val_len:][['src','rel','dst']].to_csv(\"D:\\personal-Shreyas\\AIRS\\kge\\data\\ind\\\\test.txt\", sep=\"\\t\",index=False, header=False)"
   ]
  },
  {
   "cell_type": "code",
   "execution_count": 23,
   "id": "35528f24-3fb0-4720-a99a-4d14ae149fd6",
   "metadata": {},
   "outputs": [],
   "source": [
    "data[:train_len].to_csv(\"../data/raw_data/rawdat/IND/train.txt\", sep=\"\\t\",index=False)"
   ]
  },
  {
   "cell_type": "code",
   "execution_count": 4,
   "id": "455f47cb-1f21-4031-aceb-6f555d348a46",
   "metadata": {},
   "outputs": [
    {
     "name": "stderr",
     "output_type": "stream",
     "text": [
      "d:\\personal-shreyas\\airs\\kge\\kge\\util\\io.py:41: FutureWarning: You are using `torch.load` with `weights_only=False` (the current default value), which uses the default pickle module implicitly. It is possible to construct malicious pickle data which will execute arbitrary code during unpickling (See https://github.com/pytorch/pytorch/blob/main/SECURITY.md#untrusted-models for more details). In a future release, the default value for `weights_only` will be flipped to `True`. This limits the functions that could be executed during unpickling. Arbitrary objects will no longer be allowed to be loaded via this mode unless they are explicitly allowlisted by the user via `torch.serialization.add_safe_globals`. We recommend you start setting `weights_only=True` for any use case where you don't have full control of the loaded file. Please open an issue on GitHub for any issues related to this experimental feature.\n",
      "  checkpoint = torch.load(checkpoint_file, map_location=\"cpu\")\n"
     ]
    },
    {
     "name": "stdout",
     "output_type": "stream",
     "text": [
      "Loading configuration of dataset ind from d:\\personal-shreyas\\airs\\kge\\data\\ind ...\n"
     ]
    }
   ],
   "source": [
    "checkpoint = load_checkpoint(\"D:\\\\personal-Shreyas\\\\AIRS\\\\kge\\\\local\\\\experiments\\\\20240828-095842-config\\\\checkpoint_best.pt\")\n",
    "model = KgeModel.create_from(checkpoint)"
   ]
  },
  {
   "cell_type": "code",
   "execution_count": 5,
   "id": "fe27647f-df55-45e8-885c-2cbccff1bc8a",
   "metadata": {},
   "outputs": [],
   "source": [
    "s = torch.Tensor([0, 2,]).long()             \n",
    "p = torch.Tensor([0, 1,]).long()             \n",
    "scores = model.score_sp(s, p)               \n",
    "o = torch.argmax(scores, dim=-1)"
   ]
  },
  {
   "cell_type": "code",
   "execution_count": 6,
   "id": "5d8a8563-035a-456a-a18a-d008d5f066ff",
   "metadata": {},
   "outputs": [
    {
     "name": "stdout",
     "output_type": "stream",
     "text": [
      "tensor([3, 3])\n",
      "Loaded 6298 keys from map entity_strings\n",
      "['2' '31']\n",
      "Loaded 234 keys from map relation_strings\n",
      "['121' '58']\n",
      "['1' '1']\n"
     ]
    }
   ],
   "source": [
    "print(o)\n",
    "print(model.dataset.entity_strings(s))      \n",
    "print(model.dataset.relation_strings(p))\n",
    "print(model.dataset.entity_strings(o))"
   ]
  },
  {
   "cell_type": "code",
   "execution_count": 29,
   "id": "16fe48e3-5ddf-4e09-958f-edfdc9dd13bb",
   "metadata": {},
   "outputs": [
    {
     "name": "stdout",
     "output_type": "stream",
     "text": [
      "['2']\n"
     ]
    },
    {
     "data": {
      "text/plain": [
       "tensor([[ 1.9661e-01, -6.6401e-01, -2.4103e-01,  6.8519e-01,  1.0677e+00,\n",
       "         -6.1590e-01, -1.9273e+00, -1.1633e-02, -3.3462e-01, -2.6101e-01,\n",
       "         -5.3499e-01, -1.7860e+00,  2.5913e-02,  7.8429e-01, -1.0532e-02,\n",
       "          4.3114e-01, -5.0538e-01,  4.0019e-01, -2.0199e-01, -4.9541e-01,\n",
       "          1.8359e-03,  6.6330e-01, -4.2359e-01,  4.7026e-01, -5.8177e-01,\n",
       "          5.1911e-01,  3.5269e-01, -7.1081e-01, -3.9701e-01,  2.2156e-01,\n",
       "          1.6471e-01,  1.3349e-01,  8.8541e-01,  3.4220e-01, -5.0975e-01,\n",
       "          1.4914e+00,  4.1830e-01,  3.8621e-01, -5.8727e-01,  4.4433e-01,\n",
       "          3.0772e-01,  7.2020e-01,  2.9875e-01,  3.0065e-01,  3.7239e-01,\n",
       "         -6.0652e-01,  6.7108e-01, -4.7276e-01, -5.1967e-01,  3.2929e+00,\n",
       "         -3.5420e-01, -2.2613e-01,  2.4331e-01, -2.4033e-01,  2.0211e-01,\n",
       "          4.3186e-02,  3.6366e-01,  6.5393e-01,  6.0227e-01, -5.3201e-01,\n",
       "         -2.0553e-01,  4.3862e-01, -7.7214e-01, -3.9360e-01,  1.4554e-01,\n",
       "         -7.9498e-01,  1.9437e-01,  1.8164e-01,  3.6533e-01, -1.0449e+00,\n",
       "          6.9055e-01, -3.2394e-01,  7.3698e-01,  7.6169e-01,  9.6826e-01,\n",
       "          7.9593e-01, -8.9072e-02,  1.9629e-01, -5.9721e-02,  1.0234e+00,\n",
       "         -3.4610e-01, -9.4964e-02, -6.2980e-01,  3.4381e-01, -4.7065e-02,\n",
       "          1.4393e-01, -6.6014e-01,  4.3199e-01,  1.0300e+00, -2.0833e-01,\n",
       "         -4.4317e-01,  4.4246e-01,  6.6498e-01, -2.1909e-01, -3.7239e-01,\n",
       "          5.0032e-01, -2.4326e-01,  3.6901e-01,  6.6974e-01,  1.2127e+00]],\n",
       "       grad_fn=<EmbeddingBackward0>)"
      ]
     },
     "execution_count": 29,
     "metadata": {},
     "output_type": "execute_result"
    }
   ],
   "source": [
    "print(model.dataset.entity_strings(torch.Tensor([0]).long()))\n",
    "model.get_s_embedder()._embeddings(torch.Tensor([0]).long())"
   ]
  },
  {
   "cell_type": "code",
   "execution_count": null,
   "id": "17f20c3b-c2ee-41dc-a96b-ce6b83505944",
   "metadata": {},
   "outputs": [],
   "source": []
  }
 ],
 "metadata": {
  "kernelspec": {
   "display_name": "Python 3 (ipykernel)",
   "language": "python",
   "name": "python3"
  },
  "language_info": {
   "codemirror_mode": {
    "name": "ipython",
    "version": 3
   },
   "file_extension": ".py",
   "mimetype": "text/x-python",
   "name": "python",
   "nbconvert_exporter": "python",
   "pygments_lexer": "ipython3",
   "version": "3.8.19"
  }
 },
 "nbformat": 4,
 "nbformat_minor": 5
}
